{
 "cells": [
  {
   "cell_type": "markdown",
   "metadata": {},
   "source": [
    "# Multi-Layer Perceptron Lab"
   ]
  },
  {
   "cell_type": "markdown",
   "metadata": {
    "pycharm": {
     "name": "#%% md\n"
    }
   },
   "source": [
    "In this lab, we will compare the performance of multi-layer perceptrons programmed via our various implementations. This contribution was completed during the Spring 2023 semester as part of our machine learning coursework.\n",
    "Contributors:\n",
    "1. Mohamed Elrefaiy\n",
    "2. Leonel Varvelo"
   ]
  },
  {
   "cell_type": "markdown",
   "metadata": {
    "pycharm": {
     "name": "#%% md\n"
    }
   },
   "source": [
    "# Preliminary Data Citation\n",
    "Source: https://www.kaggle.com/muonneutrino/us-census-demographic-data/data?select=acs2017_census_tract_data.csv\n",
    "Origin: The data here are taken from the DP03 and DP05 tables of the 2015 American Community Survey 5-year estimates"
   ]
  },
  {
   "cell_type": "markdown",
   "metadata": {
    "pycharm": {
     "name": "#%% md\n"
    }
   },
   "source": [
    "# 1 Load, split, and balance\n",
    "## 1.1 Load the data\n",
    "For various parts of this lab we have used Dr. Larsons notebooks 7&8 for code [1](https://github.com/eclarson/MachineLearningNotebooks/tree/master/PDF_Slides)"
   ]
  },
  {
   "cell_type": "code",
   "execution_count": 4,
   "metadata": {
    "ExecuteTime": {
     "end_time": "2023-04-02T18:39:52.042536Z",
     "start_time": "2023-04-02T18:39:50.114050Z"
    },
    "pycharm": {
     "name": "#%%\n"
    }
   },
   "outputs": [],
   "source": [
    "import numpy as np\n",
    "import pandas as pd\n",
    "import os"
   ]
  },
  {
   "cell_type": "code",
   "execution_count": 5,
   "metadata": {
    "ExecuteTime": {
     "end_time": "2023-04-02T18:39:52.285198Z",
     "start_time": "2023-04-02T18:39:52.041390Z"
    },
    "pycharm": {
     "name": "#%%\n"
    }
   },
   "outputs": [],
   "source": [
    "df = pd.read_csv(f\"{os.getcwd()}/acs2017_census_tract_data.csv\")"
   ]
  },
  {
   "cell_type": "code",
   "execution_count": 6,
   "metadata": {
    "ExecuteTime": {
     "end_time": "2023-04-02T18:39:52.331284Z",
     "start_time": "2023-04-02T18:39:52.292787Z"
    },
    "pycharm": {
     "name": "#%%\n"
    }
   },
   "outputs": [
    {
     "name": "stdout",
     "output_type": "stream",
     "text": [
      "(74001, 37)\n"
     ]
    },
    {
     "data": {
      "text/html": [
       "<div>\n",
       "<style scoped>\n",
       "    .dataframe tbody tr th:only-of-type {\n",
       "        vertical-align: middle;\n",
       "    }\n",
       "\n",
       "    .dataframe tbody tr th {\n",
       "        vertical-align: top;\n",
       "    }\n",
       "\n",
       "    .dataframe thead th {\n",
       "        text-align: right;\n",
       "    }\n",
       "</style>\n",
       "<table border=\"1\" class=\"dataframe\">\n",
       "  <thead>\n",
       "    <tr style=\"text-align: right;\">\n",
       "      <th></th>\n",
       "      <th>TractId</th>\n",
       "      <th>State</th>\n",
       "      <th>County</th>\n",
       "      <th>TotalPop</th>\n",
       "      <th>Men</th>\n",
       "      <th>Women</th>\n",
       "      <th>Hispanic</th>\n",
       "      <th>White</th>\n",
       "      <th>Black</th>\n",
       "      <th>Native</th>\n",
       "      <th>...</th>\n",
       "      <th>Walk</th>\n",
       "      <th>OtherTransp</th>\n",
       "      <th>WorkAtHome</th>\n",
       "      <th>MeanCommute</th>\n",
       "      <th>Employed</th>\n",
       "      <th>PrivateWork</th>\n",
       "      <th>PublicWork</th>\n",
       "      <th>SelfEmployed</th>\n",
       "      <th>FamilyWork</th>\n",
       "      <th>Unemployment</th>\n",
       "    </tr>\n",
       "  </thead>\n",
       "  <tbody>\n",
       "    <tr>\n",
       "      <th>0</th>\n",
       "      <td>1001020100</td>\n",
       "      <td>Alabama</td>\n",
       "      <td>Autauga County</td>\n",
       "      <td>1845</td>\n",
       "      <td>899</td>\n",
       "      <td>946</td>\n",
       "      <td>2.4</td>\n",
       "      <td>86.3</td>\n",
       "      <td>5.2</td>\n",
       "      <td>0.0</td>\n",
       "      <td>...</td>\n",
       "      <td>0.5</td>\n",
       "      <td>0.0</td>\n",
       "      <td>2.1</td>\n",
       "      <td>24.5</td>\n",
       "      <td>881</td>\n",
       "      <td>74.2</td>\n",
       "      <td>21.2</td>\n",
       "      <td>4.5</td>\n",
       "      <td>0.0</td>\n",
       "      <td>4.6</td>\n",
       "    </tr>\n",
       "    <tr>\n",
       "      <th>1</th>\n",
       "      <td>1001020200</td>\n",
       "      <td>Alabama</td>\n",
       "      <td>Autauga County</td>\n",
       "      <td>2172</td>\n",
       "      <td>1167</td>\n",
       "      <td>1005</td>\n",
       "      <td>1.1</td>\n",
       "      <td>41.6</td>\n",
       "      <td>54.5</td>\n",
       "      <td>0.0</td>\n",
       "      <td>...</td>\n",
       "      <td>0.0</td>\n",
       "      <td>0.5</td>\n",
       "      <td>0.0</td>\n",
       "      <td>22.2</td>\n",
       "      <td>852</td>\n",
       "      <td>75.9</td>\n",
       "      <td>15.0</td>\n",
       "      <td>9.0</td>\n",
       "      <td>0.0</td>\n",
       "      <td>3.4</td>\n",
       "    </tr>\n",
       "    <tr>\n",
       "      <th>2</th>\n",
       "      <td>1001020300</td>\n",
       "      <td>Alabama</td>\n",
       "      <td>Autauga County</td>\n",
       "      <td>3385</td>\n",
       "      <td>1533</td>\n",
       "      <td>1852</td>\n",
       "      <td>8.0</td>\n",
       "      <td>61.4</td>\n",
       "      <td>26.5</td>\n",
       "      <td>0.6</td>\n",
       "      <td>...</td>\n",
       "      <td>1.0</td>\n",
       "      <td>0.8</td>\n",
       "      <td>1.5</td>\n",
       "      <td>23.1</td>\n",
       "      <td>1482</td>\n",
       "      <td>73.3</td>\n",
       "      <td>21.1</td>\n",
       "      <td>4.8</td>\n",
       "      <td>0.7</td>\n",
       "      <td>4.7</td>\n",
       "    </tr>\n",
       "    <tr>\n",
       "      <th>3</th>\n",
       "      <td>1001020400</td>\n",
       "      <td>Alabama</td>\n",
       "      <td>Autauga County</td>\n",
       "      <td>4267</td>\n",
       "      <td>2001</td>\n",
       "      <td>2266</td>\n",
       "      <td>9.6</td>\n",
       "      <td>80.3</td>\n",
       "      <td>7.1</td>\n",
       "      <td>0.5</td>\n",
       "      <td>...</td>\n",
       "      <td>1.5</td>\n",
       "      <td>2.9</td>\n",
       "      <td>2.1</td>\n",
       "      <td>25.9</td>\n",
       "      <td>1849</td>\n",
       "      <td>75.8</td>\n",
       "      <td>19.7</td>\n",
       "      <td>4.5</td>\n",
       "      <td>0.0</td>\n",
       "      <td>6.1</td>\n",
       "    </tr>\n",
       "    <tr>\n",
       "      <th>4</th>\n",
       "      <td>1001020500</td>\n",
       "      <td>Alabama</td>\n",
       "      <td>Autauga County</td>\n",
       "      <td>9965</td>\n",
       "      <td>5054</td>\n",
       "      <td>4911</td>\n",
       "      <td>0.9</td>\n",
       "      <td>77.5</td>\n",
       "      <td>16.4</td>\n",
       "      <td>0.0</td>\n",
       "      <td>...</td>\n",
       "      <td>0.8</td>\n",
       "      <td>0.3</td>\n",
       "      <td>0.7</td>\n",
       "      <td>21.0</td>\n",
       "      <td>4787</td>\n",
       "      <td>71.4</td>\n",
       "      <td>24.1</td>\n",
       "      <td>4.5</td>\n",
       "      <td>0.0</td>\n",
       "      <td>2.3</td>\n",
       "    </tr>\n",
       "  </tbody>\n",
       "</table>\n",
       "<p>5 rows × 37 columns</p>\n",
       "</div>"
      ],
      "text/plain": [
       "      TractId    State          County  TotalPop   Men  Women  Hispanic  \\\n",
       "0  1001020100  Alabama  Autauga County      1845   899    946       2.4   \n",
       "1  1001020200  Alabama  Autauga County      2172  1167   1005       1.1   \n",
       "2  1001020300  Alabama  Autauga County      3385  1533   1852       8.0   \n",
       "3  1001020400  Alabama  Autauga County      4267  2001   2266       9.6   \n",
       "4  1001020500  Alabama  Autauga County      9965  5054   4911       0.9   \n",
       "\n",
       "   White  Black  Native  ...  Walk  OtherTransp  WorkAtHome  MeanCommute  \\\n",
       "0   86.3    5.2     0.0  ...   0.5          0.0         2.1         24.5   \n",
       "1   41.6   54.5     0.0  ...   0.0          0.5         0.0         22.2   \n",
       "2   61.4   26.5     0.6  ...   1.0          0.8         1.5         23.1   \n",
       "3   80.3    7.1     0.5  ...   1.5          2.9         2.1         25.9   \n",
       "4   77.5   16.4     0.0  ...   0.8          0.3         0.7         21.0   \n",
       "\n",
       "   Employed  PrivateWork  PublicWork  SelfEmployed  FamilyWork  Unemployment  \n",
       "0       881         74.2        21.2           4.5         0.0           4.6  \n",
       "1       852         75.9        15.0           9.0         0.0           3.4  \n",
       "2      1482         73.3        21.1           4.8         0.7           4.7  \n",
       "3      1849         75.8        19.7           4.5         0.0           6.1  \n",
       "4      4787         71.4        24.1           4.5         0.0           2.3  \n",
       "\n",
       "[5 rows x 37 columns]"
      ]
     },
     "execution_count": 6,
     "metadata": {},
     "output_type": "execute_result"
    }
   ],
   "source": [
    "print(df.shape)\n",
    "df.head()"
   ]
  },
  {
   "cell_type": "markdown",
   "metadata": {
    "pycharm": {
     "name": "#%% md\n"
    }
   },
   "source": [
    "## 1.2 Remove missing data"
   ]
  },
  {
   "cell_type": "code",
   "execution_count": 7,
   "metadata": {
    "ExecuteTime": {
     "end_time": "2023-04-02T18:39:52.389503Z",
     "start_time": "2023-04-02T18:39:52.310928Z"
    },
    "pycharm": {
     "name": "#%%\n"
    }
   },
   "outputs": [
    {
     "data": {
      "text/html": [
       "<div>\n",
       "<style scoped>\n",
       "    .dataframe tbody tr th:only-of-type {\n",
       "        vertical-align: middle;\n",
       "    }\n",
       "\n",
       "    .dataframe tbody tr th {\n",
       "        vertical-align: top;\n",
       "    }\n",
       "\n",
       "    .dataframe thead th {\n",
       "        text-align: right;\n",
       "    }\n",
       "</style>\n",
       "<table border=\"1\" class=\"dataframe\">\n",
       "  <thead>\n",
       "    <tr style=\"text-align: right;\">\n",
       "      <th></th>\n",
       "      <th>TractId</th>\n",
       "      <th>State</th>\n",
       "      <th>County</th>\n",
       "      <th>TotalPop</th>\n",
       "      <th>Men</th>\n",
       "      <th>Women</th>\n",
       "      <th>Hispanic</th>\n",
       "      <th>White</th>\n",
       "      <th>Black</th>\n",
       "      <th>Native</th>\n",
       "      <th>...</th>\n",
       "      <th>Walk</th>\n",
       "      <th>OtherTransp</th>\n",
       "      <th>WorkAtHome</th>\n",
       "      <th>MeanCommute</th>\n",
       "      <th>Employed</th>\n",
       "      <th>PrivateWork</th>\n",
       "      <th>PublicWork</th>\n",
       "      <th>SelfEmployed</th>\n",
       "      <th>FamilyWork</th>\n",
       "      <th>Unemployment</th>\n",
       "    </tr>\n",
       "  </thead>\n",
       "  <tbody>\n",
       "    <tr>\n",
       "      <th>43</th>\n",
       "      <td>1003990000</td>\n",
       "      <td>Alabama</td>\n",
       "      <td>Baldwin County</td>\n",
       "      <td>0</td>\n",
       "      <td>0</td>\n",
       "      <td>0</td>\n",
       "      <td>NaN</td>\n",
       "      <td>NaN</td>\n",
       "      <td>NaN</td>\n",
       "      <td>NaN</td>\n",
       "      <td>...</td>\n",
       "      <td>NaN</td>\n",
       "      <td>NaN</td>\n",
       "      <td>NaN</td>\n",
       "      <td>NaN</td>\n",
       "      <td>0</td>\n",
       "      <td>NaN</td>\n",
       "      <td>NaN</td>\n",
       "      <td>NaN</td>\n",
       "      <td>NaN</td>\n",
       "      <td>NaN</td>\n",
       "    </tr>\n",
       "    <tr>\n",
       "      <th>106</th>\n",
       "      <td>1015981901</td>\n",
       "      <td>Alabama</td>\n",
       "      <td>Calhoun County</td>\n",
       "      <td>8</td>\n",
       "      <td>4</td>\n",
       "      <td>4</td>\n",
       "      <td>0.0</td>\n",
       "      <td>100.0</td>\n",
       "      <td>0.0</td>\n",
       "      <td>0.0</td>\n",
       "      <td>...</td>\n",
       "      <td>NaN</td>\n",
       "      <td>NaN</td>\n",
       "      <td>NaN</td>\n",
       "      <td>NaN</td>\n",
       "      <td>0</td>\n",
       "      <td>NaN</td>\n",
       "      <td>NaN</td>\n",
       "      <td>NaN</td>\n",
       "      <td>NaN</td>\n",
       "      <td>NaN</td>\n",
       "    </tr>\n",
       "    <tr>\n",
       "      <th>107</th>\n",
       "      <td>1015981902</td>\n",
       "      <td>Alabama</td>\n",
       "      <td>Calhoun County</td>\n",
       "      <td>0</td>\n",
       "      <td>0</td>\n",
       "      <td>0</td>\n",
       "      <td>NaN</td>\n",
       "      <td>NaN</td>\n",
       "      <td>NaN</td>\n",
       "      <td>NaN</td>\n",
       "      <td>...</td>\n",
       "      <td>NaN</td>\n",
       "      <td>NaN</td>\n",
       "      <td>NaN</td>\n",
       "      <td>NaN</td>\n",
       "      <td>0</td>\n",
       "      <td>NaN</td>\n",
       "      <td>NaN</td>\n",
       "      <td>NaN</td>\n",
       "      <td>NaN</td>\n",
       "      <td>NaN</td>\n",
       "    </tr>\n",
       "    <tr>\n",
       "      <th>108</th>\n",
       "      <td>1015981903</td>\n",
       "      <td>Alabama</td>\n",
       "      <td>Calhoun County</td>\n",
       "      <td>0</td>\n",
       "      <td>0</td>\n",
       "      <td>0</td>\n",
       "      <td>NaN</td>\n",
       "      <td>NaN</td>\n",
       "      <td>NaN</td>\n",
       "      <td>NaN</td>\n",
       "      <td>...</td>\n",
       "      <td>NaN</td>\n",
       "      <td>NaN</td>\n",
       "      <td>NaN</td>\n",
       "      <td>NaN</td>\n",
       "      <td>0</td>\n",
       "      <td>NaN</td>\n",
       "      <td>NaN</td>\n",
       "      <td>NaN</td>\n",
       "      <td>NaN</td>\n",
       "      <td>NaN</td>\n",
       "    </tr>\n",
       "    <tr>\n",
       "      <th>805</th>\n",
       "      <td>1097003605</td>\n",
       "      <td>Alabama</td>\n",
       "      <td>Mobile County</td>\n",
       "      <td>757</td>\n",
       "      <td>208</td>\n",
       "      <td>549</td>\n",
       "      <td>2.9</td>\n",
       "      <td>66.4</td>\n",
       "      <td>25.1</td>\n",
       "      <td>0.0</td>\n",
       "      <td>...</td>\n",
       "      <td>37.4</td>\n",
       "      <td>1.2</td>\n",
       "      <td>14.6</td>\n",
       "      <td>13.7</td>\n",
       "      <td>260</td>\n",
       "      <td>79.2</td>\n",
       "      <td>11.9</td>\n",
       "      <td>4.2</td>\n",
       "      <td>4.6</td>\n",
       "      <td>16.9</td>\n",
       "    </tr>\n",
       "    <tr>\n",
       "      <th>...</th>\n",
       "      <td>...</td>\n",
       "      <td>...</td>\n",
       "      <td>...</td>\n",
       "      <td>...</td>\n",
       "      <td>...</td>\n",
       "      <td>...</td>\n",
       "      <td>...</td>\n",
       "      <td>...</td>\n",
       "      <td>...</td>\n",
       "      <td>...</td>\n",
       "      <td>...</td>\n",
       "      <td>...</td>\n",
       "      <td>...</td>\n",
       "      <td>...</td>\n",
       "      <td>...</td>\n",
       "      <td>...</td>\n",
       "      <td>...</td>\n",
       "      <td>...</td>\n",
       "      <td>...</td>\n",
       "      <td>...</td>\n",
       "      <td>...</td>\n",
       "    </tr>\n",
       "    <tr>\n",
       "      <th>73926</th>\n",
       "      <td>72137990000</td>\n",
       "      <td>Puerto Rico</td>\n",
       "      <td>Toa Baja Municipio</td>\n",
       "      <td>0</td>\n",
       "      <td>0</td>\n",
       "      <td>0</td>\n",
       "      <td>NaN</td>\n",
       "      <td>NaN</td>\n",
       "      <td>NaN</td>\n",
       "      <td>NaN</td>\n",
       "      <td>...</td>\n",
       "      <td>NaN</td>\n",
       "      <td>NaN</td>\n",
       "      <td>NaN</td>\n",
       "      <td>NaN</td>\n",
       "      <td>0</td>\n",
       "      <td>NaN</td>\n",
       "      <td>NaN</td>\n",
       "      <td>NaN</td>\n",
       "      <td>NaN</td>\n",
       "      <td>NaN</td>\n",
       "    </tr>\n",
       "    <tr>\n",
       "      <th>73957</th>\n",
       "      <td>72143990000</td>\n",
       "      <td>Puerto Rico</td>\n",
       "      <td>Vega Alta Municipio</td>\n",
       "      <td>0</td>\n",
       "      <td>0</td>\n",
       "      <td>0</td>\n",
       "      <td>NaN</td>\n",
       "      <td>NaN</td>\n",
       "      <td>NaN</td>\n",
       "      <td>NaN</td>\n",
       "      <td>...</td>\n",
       "      <td>NaN</td>\n",
       "      <td>NaN</td>\n",
       "      <td>NaN</td>\n",
       "      <td>NaN</td>\n",
       "      <td>0</td>\n",
       "      <td>NaN</td>\n",
       "      <td>NaN</td>\n",
       "      <td>NaN</td>\n",
       "      <td>NaN</td>\n",
       "      <td>NaN</td>\n",
       "    </tr>\n",
       "    <tr>\n",
       "      <th>73971</th>\n",
       "      <td>72145990000</td>\n",
       "      <td>Puerto Rico</td>\n",
       "      <td>Vega Baja Municipio</td>\n",
       "      <td>0</td>\n",
       "      <td>0</td>\n",
       "      <td>0</td>\n",
       "      <td>NaN</td>\n",
       "      <td>NaN</td>\n",
       "      <td>NaN</td>\n",
       "      <td>NaN</td>\n",
       "      <td>...</td>\n",
       "      <td>NaN</td>\n",
       "      <td>NaN</td>\n",
       "      <td>NaN</td>\n",
       "      <td>NaN</td>\n",
       "      <td>0</td>\n",
       "      <td>NaN</td>\n",
       "      <td>NaN</td>\n",
       "      <td>NaN</td>\n",
       "      <td>NaN</td>\n",
       "      <td>NaN</td>\n",
       "    </tr>\n",
       "    <tr>\n",
       "      <th>73974</th>\n",
       "      <td>72147990000</td>\n",
       "      <td>Puerto Rico</td>\n",
       "      <td>Vieques Municipio</td>\n",
       "      <td>0</td>\n",
       "      <td>0</td>\n",
       "      <td>0</td>\n",
       "      <td>NaN</td>\n",
       "      <td>NaN</td>\n",
       "      <td>NaN</td>\n",
       "      <td>NaN</td>\n",
       "      <td>...</td>\n",
       "      <td>NaN</td>\n",
       "      <td>NaN</td>\n",
       "      <td>NaN</td>\n",
       "      <td>NaN</td>\n",
       "      <td>0</td>\n",
       "      <td>NaN</td>\n",
       "      <td>NaN</td>\n",
       "      <td>NaN</td>\n",
       "      <td>NaN</td>\n",
       "      <td>NaN</td>\n",
       "    </tr>\n",
       "    <tr>\n",
       "      <th>73989</th>\n",
       "      <td>72151990000</td>\n",
       "      <td>Puerto Rico</td>\n",
       "      <td>Yabucoa Municipio</td>\n",
       "      <td>0</td>\n",
       "      <td>0</td>\n",
       "      <td>0</td>\n",
       "      <td>NaN</td>\n",
       "      <td>NaN</td>\n",
       "      <td>NaN</td>\n",
       "      <td>NaN</td>\n",
       "      <td>...</td>\n",
       "      <td>NaN</td>\n",
       "      <td>NaN</td>\n",
       "      <td>NaN</td>\n",
       "      <td>NaN</td>\n",
       "      <td>0</td>\n",
       "      <td>NaN</td>\n",
       "      <td>NaN</td>\n",
       "      <td>NaN</td>\n",
       "      <td>NaN</td>\n",
       "      <td>NaN</td>\n",
       "    </tr>\n",
       "  </tbody>\n",
       "</table>\n",
       "<p>1283 rows × 37 columns</p>\n",
       "</div>"
      ],
      "text/plain": [
       "           TractId        State               County  TotalPop  Men  Women  \\\n",
       "43      1003990000      Alabama       Baldwin County         0    0      0   \n",
       "106     1015981901      Alabama       Calhoun County         8    4      4   \n",
       "107     1015981902      Alabama       Calhoun County         0    0      0   \n",
       "108     1015981903      Alabama       Calhoun County         0    0      0   \n",
       "805     1097003605      Alabama        Mobile County       757  208    549   \n",
       "...            ...          ...                  ...       ...  ...    ...   \n",
       "73926  72137990000  Puerto Rico   Toa Baja Municipio         0    0      0   \n",
       "73957  72143990000  Puerto Rico  Vega Alta Municipio         0    0      0   \n",
       "73971  72145990000  Puerto Rico  Vega Baja Municipio         0    0      0   \n",
       "73974  72147990000  Puerto Rico    Vieques Municipio         0    0      0   \n",
       "73989  72151990000  Puerto Rico    Yabucoa Municipio         0    0      0   \n",
       "\n",
       "       Hispanic  White  Black  Native  ...  Walk  OtherTransp  WorkAtHome  \\\n",
       "43          NaN    NaN    NaN     NaN  ...   NaN          NaN         NaN   \n",
       "106         0.0  100.0    0.0     0.0  ...   NaN          NaN         NaN   \n",
       "107         NaN    NaN    NaN     NaN  ...   NaN          NaN         NaN   \n",
       "108         NaN    NaN    NaN     NaN  ...   NaN          NaN         NaN   \n",
       "805         2.9   66.4   25.1     0.0  ...  37.4          1.2        14.6   \n",
       "...         ...    ...    ...     ...  ...   ...          ...         ...   \n",
       "73926       NaN    NaN    NaN     NaN  ...   NaN          NaN         NaN   \n",
       "73957       NaN    NaN    NaN     NaN  ...   NaN          NaN         NaN   \n",
       "73971       NaN    NaN    NaN     NaN  ...   NaN          NaN         NaN   \n",
       "73974       NaN    NaN    NaN     NaN  ...   NaN          NaN         NaN   \n",
       "73989       NaN    NaN    NaN     NaN  ...   NaN          NaN         NaN   \n",
       "\n",
       "       MeanCommute  Employed  PrivateWork  PublicWork  SelfEmployed  \\\n",
       "43             NaN         0          NaN         NaN           NaN   \n",
       "106            NaN         0          NaN         NaN           NaN   \n",
       "107            NaN         0          NaN         NaN           NaN   \n",
       "108            NaN         0          NaN         NaN           NaN   \n",
       "805           13.7       260         79.2        11.9           4.2   \n",
       "...            ...       ...          ...         ...           ...   \n",
       "73926          NaN         0          NaN         NaN           NaN   \n",
       "73957          NaN         0          NaN         NaN           NaN   \n",
       "73971          NaN         0          NaN         NaN           NaN   \n",
       "73974          NaN         0          NaN         NaN           NaN   \n",
       "73989          NaN         0          NaN         NaN           NaN   \n",
       "\n",
       "       FamilyWork  Unemployment  \n",
       "43            NaN           NaN  \n",
       "106           NaN           NaN  \n",
       "107           NaN           NaN  \n",
       "108           NaN           NaN  \n",
       "805           4.6          16.9  \n",
       "...           ...           ...  \n",
       "73926         NaN           NaN  \n",
       "73957         NaN           NaN  \n",
       "73971         NaN           NaN  \n",
       "73974         NaN           NaN  \n",
       "73989         NaN           NaN  \n",
       "\n",
       "[1283 rows x 37 columns]"
      ]
     },
     "execution_count": 7,
     "metadata": {},
     "output_type": "execute_result"
    }
   ],
   "source": [
    "# missing data\n",
    "df[df.isna().any(axis=1)]"
   ]
  },
  {
   "cell_type": "code",
   "execution_count": 8,
   "metadata": {
    "ExecuteTime": {
     "end_time": "2023-04-02T18:39:52.409398Z",
     "start_time": "2023-04-02T18:39:52.352450Z"
    },
    "pycharm": {
     "name": "#%%\n"
    }
   },
   "outputs": [
    {
     "name": "stdout",
     "output_type": "stream",
     "text": [
      "(72718, 37)\n"
     ]
    },
    {
     "data": {
      "text/plain": [
       "TractId             False\n",
       "State               False\n",
       "County              False\n",
       "TotalPop            False\n",
       "Men                 False\n",
       "Women               False\n",
       "Hispanic            False\n",
       "White               False\n",
       "Black               False\n",
       "Native              False\n",
       "Asian               False\n",
       "Pacific             False\n",
       "VotingAgeCitizen    False\n",
       "Income              False\n",
       "IncomeErr           False\n",
       "IncomePerCap        False\n",
       "IncomePerCapErr     False\n",
       "Poverty             False\n",
       "ChildPoverty        False\n",
       "Professional        False\n",
       "Service             False\n",
       "Office              False\n",
       "Construction        False\n",
       "Production          False\n",
       "Drive               False\n",
       "Carpool             False\n",
       "Transit             False\n",
       "Walk                False\n",
       "OtherTransp         False\n",
       "WorkAtHome          False\n",
       "MeanCommute         False\n",
       "Employed            False\n",
       "PrivateWork         False\n",
       "PublicWork          False\n",
       "SelfEmployed        False\n",
       "FamilyWork          False\n",
       "Unemployment        False\n",
       "dtype: bool"
      ]
     },
     "execution_count": 8,
     "metadata": {},
     "output_type": "execute_result"
    }
   ],
   "source": [
    "df = df.dropna(axis=0)\n",
    "print(df.shape)\n",
    "df.isna().any()"
   ]
  },
  {
   "cell_type": "markdown",
   "metadata": {
    "pycharm": {
     "name": "#%% md\n"
    }
   },
   "source": [
    "## 1.3 String data to integers"
   ]
  },
  {
   "cell_type": "code",
   "execution_count": 9,
   "metadata": {
    "ExecuteTime": {
     "end_time": "2023-04-02T18:39:52.409774Z",
     "start_time": "2023-04-02T18:39:52.400293Z"
    },
    "pycharm": {
     "name": "#%%\n"
    }
   },
   "outputs": [
    {
     "name": "stdout",
     "output_type": "stream",
     "text": [
      "TractId               int64\n",
      "State                object\n",
      "County               object\n",
      "TotalPop              int64\n",
      "Men                   int64\n",
      "Women                 int64\n",
      "Hispanic            float64\n",
      "White               float64\n",
      "Black               float64\n",
      "Native              float64\n",
      "Asian               float64\n",
      "Pacific             float64\n",
      "VotingAgeCitizen      int64\n",
      "Income              float64\n",
      "IncomeErr           float64\n",
      "IncomePerCap        float64\n",
      "IncomePerCapErr     float64\n",
      "Poverty             float64\n",
      "ChildPoverty        float64\n",
      "Professional        float64\n",
      "Service             float64\n",
      "Office              float64\n",
      "Construction        float64\n",
      "Production          float64\n",
      "Drive               float64\n",
      "Carpool             float64\n",
      "Transit             float64\n",
      "Walk                float64\n",
      "OtherTransp         float64\n",
      "WorkAtHome          float64\n",
      "MeanCommute         float64\n",
      "Employed              int64\n",
      "PrivateWork         float64\n",
      "PublicWork          float64\n",
      "SelfEmployed        float64\n",
      "FamilyWork          float64\n",
      "Unemployment        float64\n",
      "dtype: object\n"
     ]
    }
   ],
   "source": [
    "print(df.dtypes)"
   ]
  },
  {
   "cell_type": "code",
   "execution_count": 10,
   "metadata": {
    "ExecuteTime": {
     "end_time": "2023-04-02T18:39:52.733250Z",
     "start_time": "2023-04-02T18:39:52.408411Z"
    },
    "pycharm": {
     "name": "#%%\n"
    }
   },
   "outputs": [
    {
     "name": "stdout",
     "output_type": "stream",
     "text": [
      "After converting the strind data from State into integers we now have a range from 0 to 51 corresponding to 50 states plus Puerto Rico and DC.\n"
     ]
    }
   ],
   "source": [
    "df = df.apply(lambda x: pd.factorize(x)[0] if x.dtype == \"object\" else x)\n",
    "print(f'After converting the strind data from State into integers we now have a range from {df[\"State\"].min()} to {df[\"State\"].max()} corresponding to 50 states plus Puerto Rico and DC.')"
   ]
  },
  {
   "cell_type": "markdown",
   "metadata": {
    "pycharm": {
     "name": "#%% md\n"
    }
   },
   "source": [
    "# 1.4 Keeping County\n",
    "We decided to keep the county variable because it is a unique identifier that is more specific than state. This unique identifier can help find better underlying trends in the data in order to build a better overall model to predict child poverty."
   ]
  },
  {
   "cell_type": "markdown",
   "metadata": {
    "pycharm": {
     "name": "#%% md\n"
    }
   },
   "source": [
    "## 1.5 Same number of instances in each class"
   ]
  },
  {
   "cell_type": "code",
   "execution_count": 11,
   "metadata": {
    "ExecuteTime": {
     "end_time": "2023-04-02T18:39:52.733887Z",
     "start_time": "2023-04-02T18:39:52.438583Z"
    },
    "pycharm": {
     "name": "#%%\n"
    }
   },
   "outputs": [
    {
     "name": "stdout",
     "output_type": "stream",
     "text": [
      "ChildPoverty\n",
      "0    18229\n",
      "1    18171\n",
      "3    18170\n",
      "2    18148\n",
      "Name: count, dtype: int64\n",
      "[  0.    6.2  16.3  31.6 100. ]\n"
     ]
    }
   ],
   "source": [
    "y_binned, y_label = pd.qcut(df['ChildPoverty'], q=4, labels=False, retbins=True)\n",
    "print(y_binned.value_counts())\n",
    "print(y_label)"
   ]
  },
  {
   "cell_type": "markdown",
   "metadata": {
    "pycharm": {
     "name": "#%% md\n"
    }
   },
   "source": [
    "We decided to use the pandas method qcut [2](https://pandas.pydata.org/docs/reference/api/pandas.qcut.html) in order to balance the dataset. We divide the data into 4 bins based on sample quantiles. The four bins span the following percentages of child poverty [0, 6.2] [6.2, 16.3] [16.3, 31.6] [31.6, 100]. This method avoids using any resampling methods that would duplicate or delete data in order to split the data evenly if one were to try to make a different type of split."
   ]
  },
  {
   "cell_type": "markdown",
   "metadata": {
    "pycharm": {
     "name": "#%% md\n"
    }
   },
   "source": [
    "## 1.6 Split Data"
   ]
  },
  {
   "cell_type": "code",
   "execution_count": 12,
   "metadata": {
    "ExecuteTime": {
     "end_time": "2023-04-02T18:39:53.549909Z",
     "start_time": "2023-04-02T18:39:52.451328Z"
    },
    "pycharm": {
     "name": "#%%\n"
    }
   },
   "outputs": [],
   "source": [
    "from sklearn.model_selection import train_test_split\n",
    "\n",
    "X = df.drop(['ChildPoverty', 'TractId'], axis=1)\n",
    "y, y_label = pd.qcut(df['ChildPoverty'], q=4, labels=False, retbins=True)\n",
    "\n",
    "X_train, X_test, y_train, y_test = train_test_split(X,y_binned,test_size=0.2,train_size=0.8)"
   ]
  },
  {
   "cell_type": "markdown",
   "metadata": {
    "pycharm": {
     "name": "#%% md\n"
    }
   },
   "source": [
    "We decided that it is important to balance both the testing and training set. We begin by doing the balancing of all data before we do an 80/20 split for the train and testing sets. By doing the balancing first we can use the training data to tune the hyperparameters and then evaluate the performance of the model on the testing data to see how well it generalizes to new data."
   ]
  },
  {
   "cell_type": "markdown",
   "metadata": {
    "pycharm": {
     "name": "#%% md\n"
    }
   },
   "source": [
    "# 2 Pre-processing and Initial Modeling\n",
    "## 2.1 Setting up the two layer perceptron\n",
    "The following class uses (1) vectorized gradient computation, (2) mini-batching, (3) cross entropy loss, and (4) proper Glorot initialization."
   ]
  },
  {
   "cell_type": "code",
   "execution_count": 13,
   "metadata": {
    "ExecuteTime": {
     "end_time": "2023-04-02T18:39:53.612468Z",
     "start_time": "2023-04-02T18:39:53.545938Z"
    },
    "pycharm": {
     "name": "#%%\n"
    }
   },
   "outputs": [],
   "source": [
    "from scipy.special import expit\n",
    "import sys\n",
    "\n",
    "\n",
    "class TwoLayerPerceptronBase(object):\n",
    "    def __init__(self, minibatches=1, alpha=0.1, n_hidden=30,\n",
    "                 C=0.0, epochs=500, eta=0.001, decrease_const=0.0, shuffle=True, random_state=None):\n",
    "\n",
    "        np.random.seed(random_state)\n",
    "        self.n_hidden = n_hidden\n",
    "        self.l2_C = C\n",
    "        self.epochs = epochs\n",
    "        self.eta = eta\n",
    "        self.minibatches = minibatches\n",
    "        self.alpha = alpha\n",
    "        self.decrease_const = decrease_const\n",
    "        self.shuffle = shuffle\n",
    "\n",
    "    @staticmethod\n",
    "    def _encode_labels(y):\n",
    "        \"\"\"Encode labels into one-hot representation\"\"\"\n",
    "        onehot = pd.get_dummies(y).values.T\n",
    "\n",
    "        return onehot\n",
    "\n",
    "    # (4) proper Glorot initialization\n",
    "    def _initialize_weights(self):\n",
    "        \"\"\"Initialize weights Glorot\"\"\"\n",
    "        init_bound = 4 * np.sqrt(6. / (self.n_hidden + self.n_features_ + 1))\n",
    "        W1 = np.random.uniform(-init_bound, init_bound, (self.n_hidden, self.n_features_ + 1))\n",
    "        W1[:, :1] = 0\n",
    "\n",
    "        # reduce the final layer magnitude in order to balance the size of the gradients\n",
    "        # between\n",
    "        init_bound = 4 * np.sqrt(6 / (self.n_output_ + self.n_hidden + 1))\n",
    "        W2 = np.random.uniform(-init_bound, init_bound, (self.n_output_, self.n_hidden + 1))\n",
    "        W2[:, :1] = 0\n",
    "\n",
    "        return W1, W2\n",
    "\n",
    "    @staticmethod\n",
    "    def _sigmoid(z):\n",
    "        \"\"\"Use scipy.special.expit to avoid overflow\"\"\"\n",
    "        # 1.0 / (1.0 + np.exp(-z))\n",
    "        return expit(z)\n",
    "\n",
    "    @staticmethod\n",
    "    def _add_bias_unit(X, how='column'):\n",
    "        \"\"\"Add bias unit (column or row of 1s) to array at index 0\"\"\"\n",
    "        if how == 'column':\n",
    "            ones = np.ones((X.shape[0], 1))\n",
    "            X_new = np.hstack((ones, X))\n",
    "        elif how == 'row':\n",
    "            ones = np.ones((1, X.shape[1]))\n",
    "            X_new = np.vstack((ones, X))\n",
    "        return X_new\n",
    "\n",
    "    @staticmethod\n",
    "    def _L2_reg(lambda_, W1, W2):\n",
    "        \"\"\"Compute L2-regularization cost\"\"\"\n",
    "        # only compute for non-bias terms\n",
    "        return (lambda_) * np.sqrt(np.mean(W1[:, 1:] ** 2) + np.mean(W2[:, 1:] ** 2))\n",
    "\n",
    "    def _feedforward(self, X, W1, W2):\n",
    "        \"\"\"Compute feedforward step\n",
    "        -----------\n",
    "        X : Input layer with original features.\n",
    "        W1: Weight matrix for input layer -> hidden layer.\n",
    "        W2: Weight matrix for hidden layer -> output layer.\n",
    "        ----------\n",
    "        a1-a3 : activations into layer (or output layer)\n",
    "        z1-z2 : layer inputs\n",
    "\n",
    "        \"\"\"\n",
    "        A1 = self._add_bias_unit(X.T, how='row')\n",
    "        Z1 = W1 @ A1\n",
    "        A2 = self._sigmoid(Z1)\n",
    "        A2 = self._add_bias_unit(A2, how='row')\n",
    "        Z2 = W2 @ A2\n",
    "        A3 = self._sigmoid(Z2)\n",
    "        return A1, Z1, A2, Z2, A3\n",
    "\n",
    "    def fit(self, X, y, print_progress=0):\n",
    "        \"\"\" Mini-Batching\"\"\"\n",
    "        X_data, y_data = X.copy(), y.copy()\n",
    "        Y_enc = self._encode_labels(y)\n",
    "\n",
    "        # init weights and setup matrices\n",
    "        self.n_features_ = X_data.shape[1]\n",
    "        self.n_output_ = Y_enc.shape[0]\n",
    "        self.W1, self.W2 = self._initialize_weights()\n",
    "\n",
    "        # start momentum at zero for previous updates\n",
    "        rho_W1_prev = np.zeros(self.W1.shape)  # for momentum\n",
    "        rho_W2_prev = np.zeros(self.W2.shape)  # for momentum\n",
    "\n",
    "        self.cost_ = []\n",
    "        for k in range(self.epochs):\n",
    "\n",
    "            # adaptive learning rate\n",
    "            eta = self.eta ** (1 + self.decrease_const * k)  # decreasing learning rate\n",
    "            eta = max(eta, self.eta / 1000)\n",
    "            # there are many forms of adaptive learning rates out there!\n",
    "\n",
    "            if print_progress > 0 and (k + 1) % print_progress == 0:\n",
    "                sys.stderr.write('\\rEpoch: %d/%d' % (k + 1, self.epochs))\n",
    "                sys.stderr.flush()\n",
    "\n",
    "            if self.shuffle:\n",
    "                ridx = np.random.permutation(y_data.shape[0])\n",
    "                X_data, Y_enc = X_data[ridx], Y_enc[:, ridx]\n",
    "\n",
    "            # use numpy split to split into equal sized batches\n",
    "            # num batches== self.minibatches\n",
    "            mini = np.array_split(range(y_data.shape[0]), self.minibatches)\n",
    "\n",
    "            mini_cost = []\n",
    "            # (2) mini-batching\n",
    "            for idx in mini:\n",
    "                # feedforward\n",
    "                A1, Z1, A2, Z2, A3 = self._feedforward(X_data[idx],\n",
    "                                                       self.W1,\n",
    "                                                       self.W2)\n",
    "\n",
    "                cost = self._cost(A3, Y_enc[:, idx], self.W1, self.W2)\n",
    "                mini_cost.append(cost)  # this appends cost of mini-batch only\n",
    "\n",
    "                # compute gradient via backpropagation\n",
    "                grad1, grad2 = self._get_gradient(A1=A1, A2=A2, A3=A3, Z1=Z1, Z2=Z2,\n",
    "                                                  Y_enc=Y_enc[:, idx],\n",
    "                                                  W1=self.W1, W2=self.W2)\n",
    "\n",
    "                rho_W1, rho_W2 = eta * grad1, eta * grad2\n",
    "                self.W1 -= (rho_W1 + (self.alpha * rho_W1_prev))  # update with momentum\n",
    "                self.W2 -= (rho_W2 + (self.alpha * rho_W2_prev))  # update with momentum\n",
    "                rho_W1_prev, rho_W2_prev = rho_W1, rho_W2\n",
    "\n",
    "            self.cost_.append(mini_cost)\n",
    "\n",
    "        return self\n",
    "\n",
    "    def predict(self, X):\n",
    "        \"\"\"Predict class labels\"\"\"\n",
    "        _, _, _, _, A3 = self._feedforward(X, self.W1, self.W2)\n",
    "        y_pred = np.argmax(A3, axis=0)\n",
    "        return y_pred\n",
    "\n",
    "    # (3) cross entropy loss\n",
    "    def _cost(self, A3, Y_enc, W1, W2):\n",
    "        \"\"\" Cross Entropy Loss\"\"\"\n",
    "        cost = -np.mean(np.nan_to_num((Y_enc * np.log(A3) + (1 - Y_enc) * np.log(1 - A3))))\n",
    "        L2_term = self._L2_reg(self.l2_C, W1, W2)\n",
    "        return cost + L2_term\n",
    "\n",
    "    # (1) vectorized gradient computation\n",
    "    def _get_gradient(self, A1, A2, A3, Z1, Z2, Y_enc, W1, W2):\n",
    "        \"\"\" Vectorized Gradient\n",
    "        \"\"\"\n",
    "        # vectorized backpropagation\n",
    "        V2 = (A3 - Y_enc)  # <- this is only line that changed\n",
    "        V1 = A2 * (1 - A2) * (W2.T @ V2)\n",
    "\n",
    "        grad2 = V2 @ A2.T\n",
    "        grad1 = V1[1:, :] @ A1.T\n",
    "\n",
    "        # regularize weights that are not bias terms\n",
    "        grad1[:, 1:] += W1[:, 1:] * self.l2_C\n",
    "        grad2[:, 1:] += W2[:, 1:] * self.l2_C\n",
    "\n",
    "        return grad1, grad2"
   ]
  },
  {
   "cell_type": "markdown",
   "metadata": {
    "pycharm": {
     "name": "#%% md\n"
    }
   },
   "source": [
    "## 2.2 Non-normalized non-onehot"
   ]
  },
  {
   "cell_type": "code",
   "execution_count": 14,
   "metadata": {
    "ExecuteTime": {
     "end_time": "2023-04-02T18:39:53.657325Z",
     "start_time": "2023-04-02T18:39:53.565735Z"
    },
    "pycharm": {
     "name": "#%%\n"
    }
   },
   "outputs": [],
   "source": [
    "params = dict(n_hidden=50,\n",
    "              C=0.1, # tradeoff L2 regularizer\n",
    "              epochs=200, # iterations\n",
    "              eta=0.001,  # learning rate\n",
    "              random_state=1)\n",
    "\n",
    "\n",
    "perceptron = TwoLayerPerceptronBase(**params,\n",
    "                          alpha=0.1,# momentum calculation\n",
    "                          decrease_const=0.001, # decreasing eta\n",
    "                          minibatches=100, # minibatch size\n",
    "                          shuffle=True)"
   ]
  },
  {
   "cell_type": "code",
   "execution_count": 15,
   "metadata": {
    "ExecuteTime": {
     "end_time": "2023-04-02T18:40:51.277543Z",
     "start_time": "2023-04-02T18:39:53.574330Z"
    },
    "pycharm": {
     "name": "#%%\n"
    }
   },
   "outputs": [
    {
     "name": "stdout",
     "output_type": "stream",
     "text": [
      "Accuracy: 0.2488998899889989\n"
     ]
    }
   ],
   "source": [
    "import matplotlib.pyplot as plt\n",
    "from sklearn.metrics import accuracy_score\n",
    "\n",
    "perceptron.fit(X_train.to_numpy(), y_train.to_numpy())\n",
    "yhat = perceptron.predict(X_test)\n",
    "print('Accuracy:', accuracy_score(y_test, yhat))\n",
    "\n",
    "# take the mean of each minibatch epoch\n",
    "cost_avgs = [np.mean(x) for x in perceptron.cost_]"
   ]
  },
  {
   "cell_type": "code",
   "execution_count": 16,
   "metadata": {
    "ExecuteTime": {
     "end_time": "2023-04-02T19:38:42.638140Z",
     "start_time": "2023-04-02T19:38:42.533994Z"
    },
    "pycharm": {
     "name": "#%%\n"
    }
   },
   "outputs": [
    {
     "data": {
      "image/png": "[encoded data removed]",
      "text/plain": [
       "<Figure size 640x480 with 1 Axes>"
      ]
     },
     "metadata": {},
     "output_type": "display_data"
    }
   ],
   "source": [
    "# plot the loss function\n",
    "plt.plot(range(len(cost_avgs)), cost_avgs, color='red')\n",
    "plt.ylabel('Cost')\n",
    "plt.xlabel('Epochs')\n",
    "plt.title('Non-normalized non-onehot')\n",
    "plt.tight_layout()\n",
    "plt.show()"
   ]
  },
  {
   "cell_type": "markdown",
   "metadata": {
    "pycharm": {
     "name": "#%% md\n"
    }
   },
   "source": [
    "## 2.3 Normalized non-one-hot"
   ]
  },
  {
   "cell_type": "code",
   "execution_count": 17,
   "metadata": {
    "ExecuteTime": {
     "end_time": "2023-04-02T18:40:51.498619Z",
     "start_time": "2023-04-02T18:40:51.409074Z"
    },
    "pycharm": {
     "name": "#%%\n"
    }
   },
   "outputs": [],
   "source": [
    "from sklearn.preprocessing import StandardScaler\n",
    "X_train_norm = StandardScaler().fit_transform(X_train)\n",
    "X_test_norm = StandardScaler().fit_transform(X_test)"
   ]
  },
  {
   "cell_type": "code",
   "execution_count": 18,
   "metadata": {
    "ExecuteTime": {
     "end_time": "2023-04-02T18:41:46.566753Z",
     "start_time": "2023-04-02T18:40:51.429789Z"
    },
    "pycharm": {
     "name": "#%%\n"
    }
   },
   "outputs": [
    {
     "name": "stdout",
     "output_type": "stream",
     "text": [
      "Accuracy: 0.7283415841584159\n"
     ]
    }
   ],
   "source": [
    "perceptron2 = TwoLayerPerceptronBase(**params,\n",
    "                          alpha=0.1,# momentum calculation\n",
    "                          decrease_const=0.00001, # decreasing eta\n",
    "                          minibatches=100, # minibatch size\n",
    "                          shuffle=True)\n",
    "\n",
    "# Train the model on the training data\n",
    "perceptron2.fit(X_train_norm, y_train.to_numpy())\n",
    "yhat2 = perceptron2.predict(X_test_norm)\n",
    "print('Accuracy:', accuracy_score(y_test, yhat2))\n",
    "cost_avgs2 = [np.mean(x) for x in perceptron2.cost_]"
   ]
  },
  {
   "cell_type": "code",
   "execution_count": 19,
   "metadata": {
    "ExecuteTime": {
     "end_time": "2023-04-02T19:38:27.214702Z",
     "start_time": "2023-04-02T19:38:27.077904Z"
    },
    "pycharm": {
     "name": "#%%\n"
    }
   },
   "outputs": [
    {
     "data": {
      "image/png": "[encoded data removed]",
      "text/plain": [
       "<Figure size 640x480 with 1 Axes>"
      ]
     },
     "metadata": {},
     "output_type": "display_data"
    }
   ],
   "source": [
    "# plot the loss function\n",
    "plt.plot(range(len(cost_avgs2)), cost_avgs2, color='red')\n",
    "plt.ylabel('Cost')\n",
    "plt.xlabel('Epochs')\n",
    "plt.title('Normalized non-one-hot')\n",
    "plt.tight_layout()\n",
    "plt.show()"
   ]
  },
  {
   "cell_type": "markdown",
   "metadata": {
    "pycharm": {
     "name": "#%% md\n"
    }
   },
   "source": [
    "## 1.3 Normalized Onehot"
   ]
  },
  {
   "cell_type": "code",
   "execution_count": 20,
   "metadata": {
    "ExecuteTime": {
     "end_time": "2023-04-02T18:41:46.764676Z",
     "start_time": "2023-04-02T18:41:46.672260Z"
    },
    "pycharm": {
     "name": "#%%\n"
    }
   },
   "outputs": [],
   "source": [
    "# normalize and one hot encode the data\n",
    "X_train_norm = StandardScaler().fit_transform(X_train)\n",
    "X_test_norm = StandardScaler().fit_transform(X_test)\n",
    "# One hot encode the categorical data (Data must be 1-dimensional)\n",
    "X_train_coded = pd.get_dummies(X_train.iloc[:, 0]).values\n",
    "X_train_norm_coded = np.hstack((X_train_norm, X_train_coded))\n",
    "# Normalize the continuous numeric feature data\n",
    "X_train_norm = StandardScaler().fit_transform(X_train)\n",
    "X_test_norm = StandardScaler().fit_transform(X_test)\n",
    "# One hot encode the categorical data (Data must be 1-dimensional)\n",
    "X_train_coded = pd.get_dummies(X_train.iloc[:, 0]).values\n",
    "X_train_norm_coded = np.hstack((X_train_norm, X_train_coded))\n",
    "X_test_coded = pd.get_dummies(X_test.iloc[:, 0]).values\n",
    "X_test_norm_coded = np.hstack((X_test_norm, X_test_coded))\n"
   ]
  },
  {
   "cell_type": "code",
   "execution_count": 21,
   "metadata": {
    "ExecuteTime": {
     "end_time": "2023-04-02T18:41:46.768163Z",
     "start_time": "2023-04-02T18:41:46.765241Z"
    },
    "pycharm": {
     "name": "#%%\n"
    }
   },
   "outputs": [],
   "source": [
    "perceptron3 = TwoLayerPerceptronBase(**params,\n",
    "                          alpha=0.1,# momentum calculation\n",
    "                          decrease_const=0.00001, # decreasing eta\n",
    "                          minibatches=100, # minibatch size\n",
    "                          shuffle=True)"
   ]
  },
  {
   "cell_type": "code",
   "execution_count": 22,
   "metadata": {
    "ExecuteTime": {
     "end_time": "2023-04-02T18:42:51.743843Z",
     "start_time": "2023-04-02T18:41:46.769292Z"
    },
    "pycharm": {
     "name": "#%%\n"
    }
   },
   "outputs": [
    {
     "name": "stdout",
     "output_type": "stream",
     "text": [
      "Accuracy: 0.7297854785478548\n"
     ]
    }
   ],
   "source": [
    "perceptron3.fit(X_train_norm_coded, y_train.to_numpy())\n",
    "yhat3 = perceptron3.predict(X_test_norm_coded)\n",
    "print('Accuracy:', accuracy_score(y_test, yhat3))\n",
    "cost_avgs3 = [np.mean(x) for x in perceptron3.cost_]"
   ]
  },
  {
   "cell_type": "code",
   "execution_count": 23,
   "metadata": {
    "ExecuteTime": {
     "end_time": "2023-04-02T19:39:11.082570Z",
     "start_time": "2023-04-02T19:39:10.957500Z"
    },
    "pycharm": {
     "name": "#%%\n"
    }
   },
   "outputs": [
    {
     "data": {
      "image/png": "[encoded data removed]",
      "text/plain": [
       "<Figure size 640x480 with 1 Axes>"
      ]
     },
     "metadata": {},
     "output_type": "display_data"
    }
   ],
   "source": [
    "# plot the loss function\n",
    "plt.plot(range(len(cost_avgs3)), cost_avgs3, color='red')\n",
    "plt.ylabel('Cost')\n",
    "plt.xlabel('Epochs')\n",
    "plt.title('Normalized Onehot')\n",
    "plt.tight_layout()\n",
    "plt.show()"
   ]
  },
  {
   "cell_type": "markdown",
   "metadata": {
    "pycharm": {
     "name": "#%% md\n"
    }
   },
   "source": [
    "## 1.4 Compare the performance of the three models for the two layers model:"
   ]
  },
  {
   "cell_type": "code",
   "execution_count": 24,
   "metadata": {
    "ExecuteTime": {
     "end_time": "2023-04-02T18:42:51.846059Z",
     "start_time": "2023-04-02T18:42:51.839080Z"
    },
    "pycharm": {
     "name": "#%%\n"
    }
   },
   "outputs": [
    {
     "name": "stdout",
     "output_type": "stream",
     "text": [
      "Range of Model 1 with Model 2: 0.7279459613680828 2.316608494077462\n",
      "Range of Model 1 with Model 3 0.7147210119694972 2.313881848316531\n",
      "Range of Model 2 with Model 3 -0.21249591136732396 0.19654431620780802\n"
     ]
    }
   ],
   "source": [
    "t=2.26/np.sqrt(10)\n",
    "e=(1-yhat)-(1-yhat2)\n",
    "stdtot=np.std(e)\n",
    "dbar=np.mean(e)\n",
    "print('Range of Model 1 with Model 2:', dbar-t*stdtot,dbar+t*stdtot)\n",
    "\n",
    "#Compare Model 1 with Model 3\n",
    "t= 2.26/np.sqrt(10)\n",
    "e=(1-yhat)-(1-yhat3)\n",
    "stdtot=np.std(e)\n",
    "dbar=np.mean(e)\n",
    "print('Range of Model 1 with Model 3', dbar-t*stdtot,dbar+t*stdtot)\n",
    "\n",
    "\n",
    "#Compare Model 2 with Model 3\n",
    "t=2.26/np.sqrt(10)\n",
    "e=(1-yhat2)-(1-yhat3)\n",
    "stdtot=np.std(e)\n",
    "dbar=np.mean(e)\n",
    "print('Range of Model 2 with Model 3', dbar-t*stdtot,dbar+t*stdtot)"
   ]
  },
  {
   "cell_type": "markdown",
   "metadata": {
    "pycharm": {
     "name": "#%% md\n"
    }
   },
   "source": [
    "For Model 1 and Model 2, the confidence interval ranges from -1.282 to 0.315, which means that with 95% confidence, the true difference in accuracy between Model 1 and Model 2 could be anywhere within that range. Since the confidence interval includes both positive and negative values, we cannot make a statistically significant conclusion about which model is better.\n",
    "\n",
    "For Model 1 and Model 3, the confidence interval ranges from -1.278 to 0.325, which again means that with 95% confidence, the true difference in accuracy could be anywhere within that range. Again, since the confidence interval includes both positive and negative values, we cannot make a statistically significant conclusion about which model is better.\n",
    "\n",
    "For Model 2 and Model 3, the confidence interval ranges from -0.193 to 0.208. This range is much narrower than the other two ranges, and it does not include zero. This means that with 95% confidence, Model 2 is not statistically significantly better than Model 3, or vice versa.\n",
    "\n",
    "Therefore, based on these confidence interval calculations, we cannot say which model is better between all models."
   ]
  },
  {
   "cell_type": "markdown",
   "metadata": {
    "pycharm": {
     "name": "#%% md\n"
    }
   },
   "source": [
    "# 3 Modeling\n",
    "## 3.1 3 Layer perceptron"
   ]
  },
  {
   "cell_type": "code",
   "execution_count": 25,
   "metadata": {
    "ExecuteTime": {
     "end_time": "2023-04-02T19:31:32.059244Z",
     "start_time": "2023-04-02T19:31:32.039394Z"
    },
    "pycharm": {
     "name": "#%%\n"
    }
   },
   "outputs": [],
   "source": [
    "## Inheriting from Two Layer PerceptronBas\n",
    "class ThreeLayerPerceptron(TwoLayerPerceptronBase):\n",
    "    def __init__(self, n_hidden2, **kwargs):\n",
    "        super().__init__(**kwargs)\n",
    "        self.n_hidden2 = n_hidden2\n",
    "\n",
    "    def _initialize_weights(self):\n",
    "        \"\"\"Initialize weights Glorot and He normalization.\"\"\"\n",
    "        init_bound = 4 * np.sqrt(6. / (self.n_hidden + self.n_features_ + 1))\n",
    "        W1 = np.random.uniform(-init_bound, init_bound, (self.n_hidden, self.n_features_ + 1))\n",
    "        W1[:, :1] = 0\n",
    "\n",
    "        # reduce the final layer magnitude in order to balance the size of the gradients\n",
    "        # between\n",
    "        init_bound = 4 * np.sqrt(6 / (self.n_hidden2 + self.n_hidden + 1))\n",
    "        W2 = np.random.uniform(-init_bound, init_bound, (self.n_hidden2, self.n_hidden + 1))\n",
    "        W2[:, :1] = 0\n",
    "\n",
    "        init_bound = 4 * np.sqrt(6 / (self.n_output_ + self.n_hidden2 + 1))\n",
    "        W3 = np.random.uniform(-init_bound, init_bound, (self.n_output_, self.n_hidden2 + 1))\n",
    "        W3[:, :1] = 0\n",
    "\n",
    "        return W1, W2, W3\n",
    "\n",
    "    @staticmethod\n",
    "    def _L2_reg(lambda_, W1, W2, W3):\n",
    "        \"\"\"Compute L2-regularization cost\"\"\"\n",
    "        # only compute for non-bias terms\n",
    "        return (lambda_) * np.sqrt(np.mean(W1[:, 1:] ** 2) + np.mean(W2[:, 1:] ** 2) + np.mean(W3[:, 1:] ** 2))\n",
    "\n",
    "    def _feedforward(self, X, W1, W2, W3):\n",
    "        \"\"\"Compute feedforward step\n",
    "        -----------\n",
    "        X : Input layer with original features.\n",
    "        W1: Weight matrix for input layer -> hidden layer.\n",
    "        W2: Weight matrix for hidden layer -> output layer.\n",
    "        ----------\n",
    "        a1-a3 : activations into layer (or output layer)\n",
    "        z1-z2 : layer inputs\n",
    "\n",
    "        \"\"\"\n",
    "        A1 = self._add_bias_unit(X.T, how='row')\n",
    "        Z1 = W1 @ A1\n",
    "        A2 = self._sigmoid(Z1)\n",
    "        A2 = self._add_bias_unit(A2, how='row')\n",
    "        Z2 = W2 @ A2\n",
    "        A3 = self._sigmoid(Z2)\n",
    "        A3 =  self._add_bias_unit(A3, how='row')\n",
    "        Z3 = W3 @ A3\n",
    "        A4 = self._sigmoid(Z3)\n",
    "\n",
    "        return A1, Z1, A2, Z2, A3, Z3, A4\n",
    "\n",
    "    def fit(self, X, y, print_progress=0):\n",
    "        \"\"\" Learn weights from training data.\"\"\"\n",
    "        X_data, y_data = X.copy(), y.copy()\n",
    "        Y_enc = self._encode_labels(y)\n",
    "\n",
    "        # init weights and setup matrices\n",
    "        self.n_features_ = X_data.shape[1]\n",
    "        self.n_output_ = Y_enc.shape[0]\n",
    "        self.W1, self.W2, self.W3 = self._initialize_weights()\n",
    "\n",
    "        # start momentum at zero for previous updates\n",
    "        rho_W1_prev = np.zeros(self.W1.shape)  # for momentum\n",
    "        rho_W2_prev = np.zeros(self.W2.shape)  # for momentum\n",
    "        rho_W3_prev = np.zeros(self.W3.shape)\n",
    "\n",
    "        # magnitude of gradient\n",
    "        self.grad_w1_ = []\n",
    "        self.grad_w2_ = []\n",
    "        self.grad_w3_ = []\n",
    "\n",
    "        self.grad_w1_k = []\n",
    "        self.grad_w2_k = []\n",
    "        self.grad_w3_k = []\n",
    "        # self.cost_ = []\n",
    "        for k in range(self.epochs):\n",
    "\n",
    "            # adaptive learning rate\n",
    "            eta = self.eta ** (1 + self.decrease_const * k)  # decreasing learning rate\n",
    "            eta = max(eta, self.eta / 1000)\n",
    "            # there are many forms of adaptive learning rates out there!\n",
    "\n",
    "            if print_progress > 0 and (k + 1) % print_progress == 0:\n",
    "                sys.stderr.write('\\rEpoch: %d/%d' % (k + 1, self.epochs))\n",
    "                sys.stderr.flush()\n",
    "\n",
    "            if self.shuffle:\n",
    "                ridx = np.random.permutation(y_data.shape[0])\n",
    "                X_data, Y_enc = X_data[ridx], Y_enc[:, ridx]\n",
    "\n",
    "            # use numpy split to split into equal sized batches\n",
    "            # num batches== self.minibatches\n",
    "            mini = np.array_split(range(y_data.shape[0]), self.minibatches)\n",
    "\n",
    "\n",
    "            for idx in mini:\n",
    "                # print(f'{idx=}')\n",
    "                # feedforward\n",
    "                A1, Z1, A2, Z2, A3, Z3, A4 = self._feedforward(X_data[idx], self.W1, self.W2, self.W3)\n",
    "\n",
    "                # cost = self._cost(A3, Y_enc[:, idx], self.W1, self.W2)\n",
    "                # mini_cost.append(cost)  # this appends cost of mini-batch only\n",
    "\n",
    "                # compute gradient via backpropagation\n",
    "                grad1, grad2, grad3 = self._get_gradient(A1=A1, A2=A2, A3=A3, A4=A4, Z1=Z1, Z2=Z2, Z3=Z3,\n",
    "                                                  Y_enc=Y_enc[:, idx],\n",
    "                                                  W1=self.W1, W2=self.W2, W3=self.W3)\n",
    "\n",
    "                self.grad_w1_k.append(np.mean(np.abs(grad1*eta)))\n",
    "                self.grad_w2_k.append(np.mean(np.abs(grad2*eta)))\n",
    "                self.grad_w3_k.append(np.mean(np.abs(grad3*eta)))\n",
    "\n",
    "                rho_W1, rho_W2, rho_W3 = eta * grad1, eta * grad2, eta * grad3\n",
    "                self.W1 -= (rho_W1 + (self.alpha * rho_W1_prev))  # update with momentum\n",
    "                self.W2 -= (rho_W2 + (self.alpha * rho_W2_prev))  # update with momentum\n",
    "                self.W3 -= (rho_W3 + (self.alpha * rho_W3_prev))\n",
    "                rho_W1_prev, rho_W2_prev, rho_W3_prev = rho_W1, rho_W2, rho_W3\n",
    "\n",
    "            # self.cost_.append(mini_cost)\n",
    "            self.grad_w1_.append(np.mean(self.grad_w1_k))\n",
    "            self.grad_w2_.append(np.mean(self.grad_w2_k))\n",
    "            self.grad_w3_.append(np.mean(self.grad_w3_k))\n",
    "\n",
    "\n",
    "        return self\n",
    "\n",
    "\n",
    "\n",
    "    def _get_gradient(self, A1, A2, A3, A4, Z1, Z2, Z3, Y_enc, W1, W2, W3):\n",
    "        \"\"\" Compute gradient step using backpropagation.\n",
    "        \"\"\"\n",
    "        # vectorized backpropagation\n",
    "        V3 = (A4-Y_enc) # <- this is only line that changed\n",
    "        V2 = A3*(1-A3)*(W3.T @ V3)\n",
    "        V1 = A2*(1-A2)*(W2.T @ V2[1:,:])\n",
    "\n",
    "        grad3 = V3 @ A3.T\n",
    "        grad2 = V2[1:,:] @ A2.T\n",
    "        grad1 = V1[1:,:] @ A1.T\n",
    "\n",
    "\n",
    "        # regularize weights that are not bias terms\n",
    "        grad1[:, 1:] += W1[:, 1:] * self.l2_C\n",
    "        grad2[:, 1:] += W2[:, 1:] * self.l2_C\n",
    "        grad3[:, 1:] += W3[:, 1:] * self.l2_C\n",
    "\n",
    "        return grad1, grad2, grad3\n",
    "\n",
    "    def predict(self, X):\n",
    "        \"\"\"Predict class labels\"\"\"\n",
    "        _, _, _, _, _, _, A4 = self._feedforward(X, self.W1, self.W2, self.W3)\n",
    "        y_pred = np.argmax(A4, axis=0)\n",
    "        return y_pred\n",
    "\n"
   ]
  },
  {
   "cell_type": "code",
   "execution_count": 26,
   "metadata": {
    "ExecuteTime": {
     "end_time": "2023-04-02T19:31:33.079717Z",
     "start_time": "2023-04-02T19:31:33.073976Z"
    },
    "pycharm": {
     "name": "#%%\n"
    }
   },
   "outputs": [],
   "source": [
    "params = dict(n_hidden=50,\n",
    "              C=0.1, # tradeoff L2 regularizer\n",
    "              epochs=100, # iterations\n",
    "              eta=0.001,  # learning rate\n",
    "              random_state=1,\n",
    "              alpha=0.1,# momentum calculation\n",
    "              decrease_const=0.00001, # decreasing eta\n",
    "              minibatches=100, # minibatch size\n",
    "              shuffle=True)"
   ]
  },
  {
   "cell_type": "code",
   "execution_count": 27,
   "metadata": {
    "ExecuteTime": {
     "end_time": "2023-04-02T19:32:23.165068Z",
     "start_time": "2023-04-02T19:31:33.552570Z"
    },
    "pycharm": {
     "name": "#%%\n"
    }
   },
   "outputs": [],
   "source": [
    "perceptron_3layer = ThreeLayerPerceptron(n_hidden2=30, **params)\n",
    "perceptron_3layer.fit(X_train_norm_coded, y_train.to_numpy())\n",
    "yhat = perceptron_3layer.predict(X_test_norm_coded)\n",
    "print('Accuracy:', accuracy_score(y_test, yhat))"
   ]
  },
  {
   "cell_type": "code",
   "execution_count": null,
   "metadata": {
    "ExecuteTime": {
     "end_time": "2023-04-02T19:32:23.304966Z",
     "start_time": "2023-04-02T19:32:23.182712Z"
    },
    "pycharm": {
     "name": "#%%\n"
    }
   },
   "outputs": [
    {
     "data": {
      "image/png": "[encoded data removed]",
      "text/plain": [
       "<Figure size 640x480 with 1 Axes>"
      ]
     },
     "metadata": {},
     "output_type": "display_data"
    }
   ],
   "source": [
    "ax = plt.subplot(1,1,1)\n",
    "plt.title('Three Layers')\n",
    "plt.plot(np.abs(perceptron_3layer.grad_w1_), label='w1')\n",
    "plt.plot(np.abs(perceptron_3layer.grad_w2_), label='w2')\n",
    "plt.plot(np.abs(perceptron_3layer.grad_w3_), label='w3')\n",
    "plt.legend()\n",
    "plt.ylabel('Average gradient magnitude')\n",
    "plt.xlabel('epochs')\n",
    "plt.show()"
   ]
  },
  {
   "cell_type": "markdown",
   "metadata": {
    "pycharm": {
     "name": "#%% md\n"
    }
   },
   "source": [
    "## 3.2 4 Layer Perceptron"
   ]
  },
  {
   "cell_type": "code",
   "execution_count": null,
   "metadata": {
    "ExecuteTime": {
     "end_time": "2023-04-02T19:13:52.284592Z",
     "start_time": "2023-04-02T19:13:52.271290Z"
    },
    "pycharm": {
     "name": "#%%\n"
    }
   },
   "outputs": [],
   "source": [
    "class FourLayerPerceptron(TwoLayerPerceptronBase):\n",
    "    def __init__(self, n_hidden2,n_hidden3, **kwargs):\n",
    "        super().__init__(**kwargs)\n",
    "        self.n_hidden2 = n_hidden2\n",
    "        self.n_hidden3 = n_hidden3\n",
    "\n",
    "    def _initialize_weights(self):\n",
    "        \"\"\"Initialize weights Glorot and He normalization.\"\"\"\n",
    "        init_bound = 4 * np.sqrt(6. / (self.n_hidden + self.n_features_ + 1))\n",
    "        W1 = np.random.uniform(-init_bound, init_bound, (self.n_hidden, self.n_features_ + 1))\n",
    "        W1[:, :1] = 0\n",
    "\n",
    "        # reduce the final layer magnitude in order to balance the size of the gradients\n",
    "        # between\n",
    "        init_bound = 4 * np.sqrt(6 / (self.n_hidden2 + self.n_hidden + 1))\n",
    "        W2 = np.random.uniform(-init_bound, init_bound, (self.n_hidden2, self.n_hidden + 1))\n",
    "        W2[:, :1] = 0\n",
    "\n",
    "        init_bound = 4 * np.sqrt(6 / (self.n_hidden3 + self.n_hidden2 + 1))\n",
    "        W3 = np.random.uniform(-init_bound, init_bound, (self.n_hidden3, self.n_hidden2 + 1))\n",
    "        W3[:, :1] = 0\n",
    "\n",
    "        init_bound = 4 * np.sqrt(6 / (self.n_output_ + self.n_hidden3 + 1))\n",
    "        W4 = np.random.uniform(-init_bound, init_bound, (self.n_output_, self.n_hidden3 + 1))\n",
    "        W4[:, :1] = 0\n",
    "\n",
    "        return W1, W2, W3, W4\n",
    "\n",
    "    @staticmethod\n",
    "    def _L2_reg(lambda_, W1, W2, W3, W4):\n",
    "        \"\"\"Compute L2-regularization cost\"\"\"\n",
    "        # only compute for non-bias terms\n",
    "        return (lambda_) * np.sqrt(np.mean(W1[:, 1:] ** 2) + np.mean(W2[:, 1:] ** 2) + np.mean(W3[:, 1:] ** 2) + np.mean(W4[:, 1:] ** 2))\n",
    "\n",
    "    def _feedforward(self, X, W1, W2, W3, W4):\n",
    "        \"\"\"Compute feedforward step\n",
    "        -----------\n",
    "        X : Input layer with original features.\n",
    "        W1: Weight matrix for input layer -> hidden layer.\n",
    "        W2: Weight matrix for hidden layer -> output layer.\n",
    "        ----------\n",
    "        a1-a3 : activations into layer (or output layer)\n",
    "        z1-z2 : layer inputs\n",
    "\n",
    "        \"\"\"\n",
    "        A1 = self._add_bias_unit(X.T, how='row')\n",
    "        Z1 = W1 @ A1\n",
    "        A2 = self._sigmoid(Z1)\n",
    "        A2 = self._add_bias_unit(A2, how='row')\n",
    "        Z2 = W2 @ A2\n",
    "        A3 = self._sigmoid(Z2)\n",
    "        A3 =  self._add_bias_unit(A3, how='row')\n",
    "        Z3 = W3 @ A3\n",
    "        A4 = self._sigmoid(Z3)\n",
    "        A4 = self._add_bias_unit(A4, how='row')\n",
    "        Z4 = W4 @ A4\n",
    "        A5 = self._sigmoid(Z4)\n",
    "\n",
    "        return A1, Z1, A2, Z2, A3, Z3, A4, Z4, A5\n",
    "\n",
    "    def fit(self, X, y, print_progress=0):\n",
    "        \"\"\" Learn weights from training data.\"\"\"\n",
    "        X_data, y_data = X.copy(), y.copy()\n",
    "        Y_enc = self._encode_labels(y)\n",
    "\n",
    "        # init weights and setup matrices\n",
    "        self.n_features_ = X_data.shape[1]\n",
    "        self.n_output_ = Y_enc.shape[0]\n",
    "        self.W1, self.W2, self.W3, self.W4 = self._initialize_weights()\n",
    "\n",
    "        # start momentum at zero for previous updates\n",
    "        rho_W1_prev = np.zeros(self.W1.shape)  # for momentum\n",
    "        rho_W2_prev = np.zeros(self.W2.shape)  # for momentum\n",
    "        rho_W3_prev = np.zeros(self.W3.shape)\n",
    "        rho_W4_prev = np.zeros(self.W4.shape)\n",
    "\n",
    "        # magnitude of gradient\n",
    "        self.grad_w1_ = []\n",
    "        self.grad_w2_ = []\n",
    "        self.grad_w3_ = []\n",
    "        self.grad_w4_ = []\n",
    "\n",
    "        self.grad_w1_k = []\n",
    "        self.grad_w2_k = []\n",
    "        self.grad_w3_k = []\n",
    "        self.grad_w4_k = []\n",
    "\n",
    "        # self.cost_ = []\n",
    "        for k in range(self.epochs):\n",
    "\n",
    "            # adaptive learning rate\n",
    "            eta = self.eta ** (1 + self.decrease_const * k)  # decreasing learning rate\n",
    "            eta = max(eta, self.eta / 1000)\n",
    "            # there are many forms of adaptive learning rates out there!\n",
    "\n",
    "            if print_progress > 0 and (k + 1) % print_progress == 0:\n",
    "                sys.stderr.write('\\rEpoch: %d/%d' % (k + 1, self.epochs))\n",
    "                sys.stderr.flush()\n",
    "\n",
    "            if self.shuffle:\n",
    "                ridx = np.random.permutation(y_data.shape[0])\n",
    "                X_data, Y_enc = X_data[ridx], Y_enc[:, ridx]\n",
    "\n",
    "            # use numpy split to split into equal sized batches\n",
    "            # num batches== self.minibatches\n",
    "            mini = np.array_split(range(y_data.shape[0]), self.minibatches)\n",
    "            # print(f'{np.shape(mini)=}')\n",
    "            # print(f'{mini[0][0]=}')\n",
    "            mini_cost = []\n",
    "            for idx in mini:\n",
    "                # print(f'{idx=}')\n",
    "                # feedforward\n",
    "                A1, Z1, A2, Z2, A3, Z3, A4, Z4, A5 = self._feedforward(X_data[idx], self.W1, self.W2, self.W3, self.W4)\n",
    "\n",
    "                # cost = self._cost(A3, Y_enc[:, idx], self.W1, self.W2)\n",
    "                # mini_cost.append(cost)  # this appends cost of mini-batch only\n",
    "\n",
    "                # compute gradient via backpropagation\n",
    "                grad1, grad2, grad3, grad4 = self._get_gradient(A1=A1, A2=A2, A3=A3, A4=A4, A5=A5, Z1=Z1, Z2=Z2, Z3=Z3, Z4=Z4, Y_enc=Y_enc[:, idx], W1=self.W1, W2=self.W2, W3=self.W3, W4=self.W4)\n",
    "\n",
    "                self.grad_w1_k.append(np.mean(np.abs(grad1 * eta)))\n",
    "                self.grad_w2_k.append(np.mean(np.abs(grad2 * eta)))\n",
    "                self.grad_w3_k.append(np.mean(np.abs(grad3 * eta)))\n",
    "                self.grad_w4_k.append(np.mean(np.abs(grad4 * eta)))\n",
    "\n",
    "                rho_W1, rho_W2, rho_W3, rho_W4 = eta * grad1, eta * grad2, eta * grad3, eta * grad4\n",
    "                self.W1 -= (rho_W1 + (self.alpha * rho_W1_prev))  # update with momentum\n",
    "                self.W2 -= (rho_W2 + (self.alpha * rho_W2_prev))  # update with momentum\n",
    "                self.W3 -= (rho_W3 + (self.alpha * rho_W3_prev))\n",
    "                self.W4 -= (rho_W4 + (self.alpha * rho_W4_prev))\n",
    "                rho_W1_prev, rho_W2_prev, rho_W3_prev, rho_W4_prev = rho_W1, rho_W2, rho_W3, rho_W4\n",
    "\n",
    "            # self.cost_.append(mini_cost)\n",
    "\n",
    "            self.grad_w1_.append(np.mean(self.grad_w1_k))\n",
    "            self.grad_w2_.append(np.mean(self.grad_w2_k))\n",
    "            self.grad_w3_.append(np.mean(self.grad_w3_k))\n",
    "            self.grad_w4_.append(np.mean(self.grad_w4_k))\n",
    "\n",
    "        return self\n",
    "\n",
    "    def _get_gradient(self, A1, A2, A3, A4, A5,Z1, Z2, Z3, Z4, Y_enc, W1, W2, W3, W4):\n",
    "        \"\"\" Compute gradient step using backpropagation.\n",
    "        \"\"\"\n",
    "        # vectorized backpropagation\n",
    "        V4 = (A5-Y_enc)\n",
    "        V3 = A4*(1-A4)*(W4.T @ V4)\n",
    "        V2 = A3*(1-A3)*(W3.T @ V3[1:,:])\n",
    "        V1 = A2*(1-A2)*(W2.T @ V2[1:,:])\n",
    "\n",
    "        grad4 = V4 @ A4.T\n",
    "        grad3 = V3[1:,:] @ A3.T\n",
    "        grad2 = V2[1:,:] @ A2.T\n",
    "        grad1 = V1[1:,:] @ A1.T\n",
    "\n",
    "\n",
    "        # regularize weights that are not bias terms\n",
    "        grad1[:, 1:] += W1[:, 1:] * self.l2_C\n",
    "        grad2[:, 1:] += W2[:, 1:] * self.l2_C\n",
    "        grad3[:, 1:] += W3[:, 1:] * self.l2_C\n",
    "        grad4[:, 1:] += W4[:, 1:] * self.l2_C\n",
    "\n",
    "        return grad1, grad2, grad3, grad4\n",
    "\n",
    "    def predict(self, X):\n",
    "        \"\"\"Predict class labels\"\"\"\n",
    "        _, _, _, _, _, _, _, _, A5 = self._feedforward(X, self.W1, self.W2, self.W3, self.W4)\n",
    "        y_pred = np.argmax(A5, axis=0)\n",
    "        return y_pred"
   ]
  },
  {
   "cell_type": "code",
   "execution_count": null,
   "metadata": {
    "ExecuteTime": {
     "end_time": "2023-04-02T19:13:52.848926Z",
     "start_time": "2023-04-02T19:13:52.842182Z"
    },
    "pycharm": {
     "name": "#%%\n"
    }
   },
   "outputs": [],
   "source": [
    "params = dict(n_hidden=50,\n",
    "              C=0.1, # tradeoff L2 regularizer\n",
    "              epochs=100, # iterations\n",
    "              eta=0.001,  # learning rate\n",
    "              random_state=1,\n",
    "              alpha=0.1,# momentum calculation\n",
    "              decrease_const=0.001, # decreasing eta\n",
    "              minibatches=100, # minibatch size\n",
    "              shuffle=True)\n",
    "\n",
    "\n",
    "perceptron_4layer = FourLayerPerceptron(n_hidden2=30, n_hidden3=15, **params)"
   ]
  },
  {
   "cell_type": "code",
   "execution_count": null,
   "metadata": {
    "ExecuteTime": {
     "end_time": "2023-04-02T19:14:49.788863Z",
     "start_time": "2023-04-02T19:13:53.340830Z"
    },
    "pycharm": {
     "name": "#%%\n"
    }
   },
   "outputs": [
    {
     "name": "stdout",
     "output_type": "stream",
     "text": [
      "Accuracy: 0.7311606160616062\n"
     ]
    }
   ],
   "source": [
    "perceptron_4layer.fit(X_train_norm_coded, y_train.to_numpy())\n",
    "yhat = perceptron_4layer.predict(X_test_norm_coded)\n",
    "print('Accuracy:', accuracy_score(y_test, yhat))"
   ]
  },
  {
   "cell_type": "code",
   "execution_count": null,
   "metadata": {
    "ExecuteTime": {
     "end_time": "2023-04-02T19:14:56.489104Z",
     "start_time": "2023-04-02T19:14:56.377565Z"
    },
    "pycharm": {
     "name": "#%%\n"
    }
   },
   "outputs": [
    {
     "data": {
      "image/png": "[encoded data removed]",
      "text/plain": [
       "<Figure size 640x480 with 1 Axes>"
      ]
     },
     "metadata": {},
     "output_type": "display_data"
    }
   ],
   "source": [
    "ax = plt.subplot(1,1,1)\n",
    "plt.title('Four Layers')\n",
    "plt.plot(np.abs(perceptron_4layer.grad_w1_), label='w1')\n",
    "plt.plot(np.abs(perceptron_4layer.grad_w2_), label='w2')\n",
    "plt.plot(np.abs(perceptron_4layer.grad_w3_), label='w3')\n",
    "plt.plot(np.abs(perceptron_4layer.grad_w4_), label='w4')\n",
    "plt.legend()\n",
    "plt.ylabel('Average gradient magnitude')\n",
    "plt.xlabel('Epochs')\n",
    "plt.show()"
   ]
  },
  {
   "cell_type": "markdown",
   "metadata": {
    "pycharm": {
     "name": "#%% md\n"
    }
   },
   "source": [
    "## 3.3 5 Layer Perceptron"
   ]
  },
  {
   "cell_type": "code",
   "execution_count": null,
   "metadata": {
    "ExecuteTime": {
     "end_time": "2023-04-02T19:18:36.359960Z",
     "start_time": "2023-04-02T19:18:36.357615Z"
    },
    "pycharm": {
     "name": "#%%\n"
    }
   },
   "outputs": [],
   "source": [
    "class FiveLayerPerceptron(TwoLayerPerceptronBase):\n",
    "    def __init__(self, n_hidden2,n_hidden3, n_hidden4, **kwargs):\n",
    "        super().__init__(**kwargs)\n",
    "        self.n_hidden2 = n_hidden2\n",
    "        self.n_hidden3 = n_hidden3\n",
    "        self.n_hidden4 = n_hidden4\n",
    "\n",
    "    def _initialize_weights(self):\n",
    "        \"\"\"Initialize weights Glorot.\"\"\"\n",
    "        init_bound = 4 * np.sqrt(6. / (self.n_hidden + self.n_features_ + 1))\n",
    "        W1 = np.random.uniform(-init_bound, init_bound, (self.n_hidden, self.n_features_ + 1))\n",
    "        W1[:, :1] = 0\n",
    "\n",
    "        # reduce the final layer magnitude in order to balance the size of the gradients\n",
    "        # between\n",
    "        init_bound = 4 * np.sqrt(6 / (self.n_hidden2 + self.n_hidden + 1))\n",
    "        W2 = np.random.uniform(-init_bound, init_bound, (self.n_hidden2, self.n_hidden + 1))\n",
    "        W2[:, :1] = 0\n",
    "\n",
    "        init_bound = 4 * np.sqrt(6 / (self.n_hidden3 + self.n_hidden2 + 1))\n",
    "        W3 = np.random.uniform(-init_bound, init_bound, (self.n_hidden3, self.n_hidden2 + 1))\n",
    "        W3[:, :1] = 0\n",
    "\n",
    "        init_bound = 4 * np.sqrt(6 / (self.n_hidden4 + self.n_hidden3 + 1))\n",
    "        W4 = np.random.uniform(-init_bound, init_bound, (self.n_hidden4, self.n_hidden3 + 1))\n",
    "        W4[:, :1] = 0\n",
    "\n",
    "        init_bound = 4 * np.sqrt(6 / (self.n_output_ + self.n_hidden4 + 1))\n",
    "        W5 = np.random.uniform(-init_bound, init_bound, (self.n_output_, self.n_hidden4 + 1))\n",
    "        W5[:, :1] = 0\n",
    "\n",
    "        return W1, W2, W3, W4, W5\n",
    "\n",
    "    @staticmethod\n",
    "    def _L2_reg(lambda_, W1, W2, W3, W4, W5):\n",
    "        \"\"\"Compute L2-regularization cost\"\"\"\n",
    "        # only compute for non-bias terms\n",
    "        return (lambda_) * np.sqrt(np.mean(W1[:, 1:] ** 2) + np.mean(W2[:, 1:] ** 2) + np.mean(W3[:, 1:] ** 2) + np.mean(W4[:, 1:] ** 2) + np.mean(W5[:, 1:] ** 2))\n",
    "\n",
    "    def _feedforward(self, X, W1, W2, W3, W4, W5):\n",
    "        \"\"\"Compute feedforward step\n",
    "        -----------\n",
    "        X : Input layer with original features.\n",
    "        W1: Weight matrix for input layer -> hidden layer.\n",
    "        W2: Weight matrix for hidden layer -> output layer.\n",
    "        ----------\n",
    "        a1-a3 : activations into layer (or output layer)\n",
    "        z1-z2 : layer inputs\n",
    "\n",
    "        \"\"\"\n",
    "        A1 = self._add_bias_unit(X.T, how='row')\n",
    "        Z1 = W1 @ A1\n",
    "        A2 = self._sigmoid(Z1)\n",
    "        A2 = self._add_bias_unit(A2, how='row')\n",
    "        Z2 = W2 @ A2\n",
    "        A3 = self._sigmoid(Z2)\n",
    "        A3 =  self._add_bias_unit(A3, how='row')\n",
    "        Z3 = W3 @ A3\n",
    "        A4 = self._sigmoid(Z3)\n",
    "        A4 = self._add_bias_unit(A4, how='row')\n",
    "        Z4 = W4 @ A4\n",
    "        A5 = self._sigmoid(Z4)\n",
    "        A5 = self._add_bias_unit(A5, how='row')\n",
    "        Z5 = W5 @ A5\n",
    "        A6 = self._sigmoid(Z5)\n",
    "\n",
    "        return A1, Z1, A2, Z2, A3, Z3, A4, Z4, A5, Z5, A6\n",
    "\n",
    "    def fit(self, X, y, print_progress=0):\n",
    "        \"\"\" Learn weights from training data.\"\"\"\n",
    "        X_data, y_data = X.copy(), y.copy()\n",
    "        Y_enc = self._encode_labels(y)\n",
    "\n",
    "        # init weights and setup matrices\n",
    "        self.n_features_ = X_data.shape[1]\n",
    "        self.n_output_ = Y_enc.shape[0]\n",
    "        self.W1, self.W2, self.W3, self.W4, self.W5 = self._initialize_weights()\n",
    "\n",
    "        # start momentum at zero for previous updates\n",
    "        rho_W1_prev = np.zeros(self.W1.shape)  # for momentum\n",
    "        rho_W2_prev = np.zeros(self.W2.shape)  # for momentum\n",
    "        rho_W3_prev = np.zeros(self.W3.shape)\n",
    "        rho_W4_prev = np.zeros(self.W4.shape)\n",
    "        rho_W5_prev = np.zeros(self.W5.shape)\n",
    "\n",
    "        # magnitude of gradient\n",
    "        self.grad_w1_ = []\n",
    "        self.grad_w2_ = []\n",
    "        self.grad_w3_ = []\n",
    "        self.grad_w4_ = []\n",
    "        self.grad_w5_ = []\n",
    "        self.grad_w1_k, self.grad_w2_k, self.grad_w3_k, self.grad_w4_k, self.grad_w5_k = [],[],[],[],[]\n",
    "        # self.cost_ = []\n",
    "        for k in range(self.epochs):\n",
    "\n",
    "            # adaptive learning rate\n",
    "            eta = self.eta ** (1 + self.decrease_const * k)  # decreasing learning rate\n",
    "            eta = max(eta, self.eta / 1000)\n",
    "            # there are many forms of adaptive learning rates out there!\n",
    "\n",
    "            if print_progress > 0 and (k + 1) % print_progress == 0:\n",
    "                sys.stderr.write('\\rEpoch: %d/%d' % (k + 1, self.epochs))\n",
    "                sys.stderr.flush()\n",
    "\n",
    "            if self.shuffle:\n",
    "                ridx = np.random.permutation(y_data.shape[0])\n",
    "                X_data, Y_enc = X_data[ridx], Y_enc[:, ridx]\n",
    "\n",
    "            # use numpy split to split into equal sized batches\n",
    "            # num batches== self.minibatches\n",
    "            mini = np.array_split(range(y_data.shape[0]), self.minibatches)\n",
    "            # print(f'{np.shape(mini)=}')\n",
    "            # print(f'{mini[0][0]=}')\n",
    "            mini_cost = []\n",
    "            for idx in mini:\n",
    "                # print(f'{idx=}')\n",
    "                # feedforward\n",
    "                A1, Z1, A2, Z2, A3, Z3, A4, Z4, A5, Z5, A6 = self._feedforward(X_data[idx], self.W1, self.W2, self.W3, self.W4, self.W5)\n",
    "\n",
    "                # cost = self._cost(A3, Y_enc[:, idx], self.W1, self.W2)\n",
    "                # mini_cost.append(cost)  # this appends cost of mini-batch only\n",
    "\n",
    "                # compute gradient via backpropagation\n",
    "                grad1, grad2, grad3, grad4, grad5 = self._get_gradient(A1=A1, A2=A2, A3=A3, A4=A4, A5=A5, A6=A6, Z1=Z1, Z2=Z2, Z3=Z3, Z4=Z4, Z5=Z5, Y_enc=Y_enc[:, idx], W1=self.W1, W2=self.W2, W3=self.W3, W4=self.W4, W5=self.W5)\n",
    "\n",
    "                self.grad_w1_k.append(np.mean(np.abs(grad1 * eta)))\n",
    "                self.grad_w2_k.append(np.mean(np.abs(grad2 * eta)))\n",
    "                self.grad_w3_k.append(np.mean(np.abs(grad3 * eta)))\n",
    "                self.grad_w4_k.append(np.mean(np.abs(grad4 * eta)))\n",
    "                self.grad_w5_k.append(np.mean(np.abs(grad5 * eta)))\n",
    "\n",
    "                rho_W1, rho_W2, rho_W3, rho_W4, rho_W5 = eta * grad1, eta * grad2, eta * grad3, eta * grad4, eta* grad5\n",
    "                self.W1 -= (rho_W1 + (self.alpha * rho_W1_prev))  # update with momentum\n",
    "                self.W2 -= (rho_W2 + (self.alpha * rho_W2_prev))  # update with momentum\n",
    "                self.W3 -= (rho_W3 + (self.alpha * rho_W3_prev))\n",
    "                self.W4 -= (rho_W4 + (self.alpha * rho_W4_prev))\n",
    "                self.W5 -= (rho_W5 + (self.alpha * rho_W5_prev))\n",
    "                rho_W1_prev, rho_W2_prev, rho_W3_prev, rho_W4_prev, rho_W5_prev = rho_W1, rho_W2, rho_W3, rho_W4, rho_W5\n",
    "\n",
    "            # self.cost_.append(mini_cost)\n",
    "            self.grad_w1_.append(np.mean(self.grad_w1_k))\n",
    "            self.grad_w2_.append(np.mean(self.grad_w2_k))\n",
    "            self.grad_w3_.append(np.mean(self.grad_w3_k))\n",
    "            self.grad_w4_.append(np.mean(self.grad_w4_k))\n",
    "            self.grad_w5_.append(np.mean(self.grad_w5_k))\n",
    "\n",
    "        return self\n",
    "\n",
    "    def _get_gradient(self, A1, A2, A3, A4, A5, A6, Z1, Z2, Z3, Z4, Z5, Y_enc, W1, W2, W3, W4, W5):\n",
    "        \"\"\" Compute gradient step using backpropagation.\n",
    "        \"\"\"\n",
    "        # vectorized backpropagation\n",
    "        V5 = (A6-Y_enc)\n",
    "        V4 = A5*(1-A5)*(W5.T @ V5)\n",
    "        V3 = A4*(1-A4)*(W4.T @ V4[1:,:])\n",
    "        V2 = A3*(1-A3)*(W3.T @ V3[1:,:])\n",
    "        V1 = A2*(1-A2)*(W2.T @ V2[1:,:])\n",
    "\n",
    "        grad5 = V5 @ A5.T\n",
    "        grad4 = V4[1:,:] @ A4.T\n",
    "        grad3 = V3[1:,:] @ A3.T\n",
    "        grad2 = V2[1:,:] @ A2.T\n",
    "        grad1 = V1[1:,:] @ A1.T\n",
    "\n",
    "\n",
    "        # regularize weights that are not bias terms\n",
    "        grad1[:, 1:] += W1[:, 1:] * self.l2_C\n",
    "        grad2[:, 1:] += W2[:, 1:] * self.l2_C\n",
    "        grad3[:, 1:] += W3[:, 1:] * self.l2_C\n",
    "        grad4[:, 1:] += W4[:, 1:] * self.l2_C\n",
    "        grad5[:, 1:] += W5[:, 1:] * self.l2_C\n",
    "\n",
    "        return grad1, grad2, grad3, grad4, grad5\n",
    "\n",
    "    def predict(self, X):\n",
    "        \"\"\"Predict class labels\"\"\"\n",
    "        _, _, _, _, _, _, _, _, _, _, A6 = self._feedforward(X, self.W1, self.W2, self.W3, self.W4, self.W5)\n",
    "        y_pred = np.argmax(A6, axis=0)\n",
    "        return y_pred"
   ]
  },
  {
   "cell_type": "code",
   "execution_count": null,
   "metadata": {
    "ExecuteTime": {
     "end_time": "2023-04-02T19:18:36.835508Z",
     "start_time": "2023-04-02T19:18:36.831834Z"
    },
    "pycharm": {
     "name": "#%%\n"
    }
   },
   "outputs": [],
   "source": [
    "params = dict(n_hidden=50,\n",
    "              C=0.1, # tradeoff L2 regularizer\n",
    "              epochs=100, # iterations\n",
    "              eta=0.001,  # learning rate\n",
    "              random_state=1,\n",
    "              alpha=0.1,# momentum calculation\n",
    "              decrease_const=0.00001, # decreasing eta\n",
    "              minibatches=100, # minibatch size\n",
    "              shuffle=True)\n",
    "\n",
    "\n",
    "perceptron_5layer = FiveLayerPerceptron(n_hidden2=30, n_hidden3=15, n_hidden4=8,**params)"
   ]
  },
  {
   "cell_type": "code",
   "execution_count": null,
   "metadata": {
    "ExecuteTime": {
     "end_time": "2023-04-02T19:19:40.211370Z",
     "start_time": "2023-04-02T19:18:37.308806Z"
    },
    "pycharm": {
     "name": "#%%\n"
    }
   },
   "outputs": [
    {
     "name": "stdout",
     "output_type": "stream",
     "text": [
      "Accuracy: 0.7225660066006601\n"
     ]
    }
   ],
   "source": [
    "perceptron_5layer.fit(X_train_norm_coded, y_train.to_numpy())\n",
    "yhat_5l = perceptron_5layer.predict(X_test_norm_coded)\n",
    "print('Accuracy:', accuracy_score(y_test, yhat_5l))"
   ]
  },
  {
   "cell_type": "code",
   "execution_count": null,
   "metadata": {
    "ExecuteTime": {
     "end_time": "2023-04-02T19:19:40.366183Z",
     "start_time": "2023-04-02T19:19:40.229661Z"
    },
    "pycharm": {
     "name": "#%%\n"
    }
   },
   "outputs": [
    {
     "data": {
      "image/png": "[encoded data removed]",
      "text/plain": [
       "<Figure size 640x480 with 1 Axes>"
      ]
     },
     "metadata": {},
     "output_type": "display_data"
    }
   ],
   "source": [
    "ax = plt.subplot(1,1,1)\n",
    "plt.title('Five Layers')\n",
    "plt.plot(np.abs(perceptron_5layer.grad_w1_), label='w1')\n",
    "plt.plot(np.abs(perceptron_5layer.grad_w2_), label='w2')\n",
    "plt.plot(np.abs(perceptron_5layer.grad_w3_), label='w3')\n",
    "plt.plot(np.abs(perceptron_5layer.grad_w4_), label='w4')\n",
    "plt.plot(np.abs(perceptron_5layer.grad_w5_), label='w5')\n",
    "plt.legend()\n",
    "plt.ylabel('Average gradient magnitude')\n",
    "plt.xlabel('Epochs')\n",
    "plt.show()"
   ]
  },
  {
   "cell_type": "markdown",
   "metadata": {
    "pycharm": {
     "name": "#%% md\n"
    }
   },
   "source": [
    "## 3.4 5 Layer Perceptron with AdaGrad\n",
    "We decided to pick AdaGrad as the adaptive learning technique to implement. In AdaGrad [3](https://www.jmlr.org/papers/volume12/duchi11a/duchi11a.pdf) [4](https://optimization.cbe.cornell.edu/index.php?title=AdaGrad#cite_note-:0-1) there is an update rule that updates the weights W and the rule is W(i) <-- W(i-1) η/sqrt(g(i)**2 + ε) * g(i) where η is the learning rate, g(i) is the gradient at iteration i, and ε is a small constant."
   ]
  },
  {
   "cell_type": "code",
   "execution_count": null,
   "metadata": {
    "ExecuteTime": {
     "end_time": "2023-04-02T19:27:10.059358Z",
     "start_time": "2023-04-02T19:27:10.044934Z"
    },
    "pycharm": {
     "name": "#%%\n"
    }
   },
   "outputs": [],
   "source": [
    "class FiveLayerPerceptron_adagrad(FiveLayerPerceptron):\n",
    "    def __init__(self, epsilon, **kwargs):\n",
    "        super().__init__(**kwargs)\n",
    "        self.epsilon = epsilon\n",
    "\n",
    "    def fit(self, X, y, print_progress=0):\n",
    "        \"\"\" Learn weights from training data.\"\"\"\n",
    "        X_data, y_data = X.copy(), y.copy()\n",
    "        Y_enc = self._encode_labels(y)\n",
    "\n",
    "        # init weights and setup matrices\n",
    "        self.n_features_ = X_data.shape[1]\n",
    "        self.n_output_ = Y_enc.shape[0]\n",
    "        self.W1, self.W2, self.W3, self.W4, self.W5 = self._initialize_weights()\n",
    "\n",
    "        # start momentum at zero for previous updates\n",
    "        rho_W1_prev = np.zeros(self.W1.shape)  # for momentum\n",
    "        rho_W2_prev = np.zeros(self.W2.shape)  # for momentum\n",
    "        rho_W3_prev = np.zeros(self.W3.shape)\n",
    "        rho_W4_prev = np.zeros(self.W4.shape)\n",
    "        rho_W5_prev = np.zeros(self.W5.shape)\n",
    "\n",
    "        # magnitude of gradient\n",
    "        self.grad_w1_ = []\n",
    "        self.grad_w2_ = []\n",
    "        self.grad_w3_ = []\n",
    "        self.grad_w4_ = []\n",
    "        self.grad_w5_ = []\n",
    "\n",
    "        self.grad_w1_k = []\n",
    "        self.grad_w2_k = []\n",
    "        self.grad_w3_k = []\n",
    "        self.grad_w4_k = []\n",
    "        self.grad_w5_k = []\n",
    "\n",
    "        for k in range(self.epochs):\n",
    "\n",
    "            # adaptive learning rate\n",
    "            eta = self.eta ** (1 + self.decrease_const * k)  # decreasing learning rate\n",
    "            eta = max(eta, self.eta / 1000)\n",
    "            # there are many forms of adaptive learning rates out there!\n",
    "\n",
    "            if print_progress > 0 and (k + 1) % print_progress == 0:\n",
    "                sys.stderr.write('\\rEpoch: %d/%d' % (k + 1, self.epochs))\n",
    "                sys.stderr.flush()\n",
    "\n",
    "            if self.shuffle:\n",
    "                ridx = np.random.permutation(y_data.shape[0])\n",
    "                X_data, Y_enc = X_data[ridx], Y_enc[:, ridx]\n",
    "\n",
    "            # use numpy split to split into equal sized batches\n",
    "            # num batches== self.minibatches\n",
    "            mini = np.array_split(range(y_data.shape[0]), self.minibatches)\n",
    "\n",
    "            for idx in mini:\n",
    "                # print(f'{idx=}')\n",
    "                # feedforward\n",
    "                A1, Z1, A2, Z2, A3, Z3, A4, Z4, A5, Z5, A6 = self._feedforward(X_data[idx], self.W1, self.W2, self.W3, self.W4, self.W5)\n",
    "\n",
    "                # compute gradient via backpropagation\n",
    "                grad1, grad2, grad3, grad4, grad5 = self._get_gradient(A1=A1, A2=A2, A3=A3, A4=A4, A5=A5, A6=A6, Z1=Z1, Z2=Z2, Z3=Z3, Z4=Z4, Z5=Z5, Y_enc=Y_enc[:, idx], W1=self.W1, W2=self.W2, W3=self.W3, W4=self.W4, W5=self.W5)\n",
    "\n",
    "                self.grad_w1_k.append(np.mean(np.abs(grad1 * eta)))\n",
    "                self.grad_w2_k.append(np.mean(np.abs(grad2 * eta)))\n",
    "                self.grad_w3_k.append(np.mean(np.abs(grad3 * eta)))\n",
    "                self.grad_w4_k.append(np.mean(np.abs(grad4 * eta)))\n",
    "                self.grad_w5_k.append(np.mean(np.abs(grad5 * eta)))\n",
    "\n",
    "                rho_W1 = self.eta / (np.sqrt(grad1**2 + self.epsilon)) * grad1\n",
    "                rho_W2 = self.eta / (np.sqrt(grad2**2 + self.epsilon)) * grad2\n",
    "                rho_W3 = self.eta / (np.sqrt(grad3**2 + self.epsilon)) * grad3\n",
    "                rho_W4 = self.eta / (np.sqrt(grad4**2 + self.epsilon)) * grad4\n",
    "                rho_W5 = self.eta / (np.sqrt(grad5**2 + self.epsilon)) * grad5\n",
    "\n",
    "                self.W1 -= (rho_W1 + (self.alpha * rho_W1_prev))  # update with momentum\n",
    "                self.W2 -= (rho_W2 + (self.alpha * rho_W2_prev))  # update with momentum\n",
    "                self.W3 -= (rho_W3 + (self.alpha * rho_W3_prev))\n",
    "                self.W4 -= (rho_W4 + (self.alpha * rho_W4_prev))\n",
    "                self.W5 -= (rho_W5 + (self.alpha * rho_W5_prev))\n",
    "                rho_W1_prev, rho_W2_prev, rho_W3_prev, rho_W4_prev, rho_W5_prev = rho_W1, rho_W2, rho_W3, rho_W4, rho_W5\n",
    "\n",
    "            # self.cost_.append(mini_cost)\n",
    "            self.grad_w1_.append(np.mean(self.grad_w1_k))\n",
    "            self.grad_w2_.append(np.mean(self.grad_w2_k))\n",
    "            self.grad_w3_.append(np.mean(self.grad_w3_k))\n",
    "            self.grad_w4_.append(np.mean(self.grad_w4_k))\n",
    "            self.grad_w5_.append(np.mean(self.grad_w5_k))\n",
    "\n",
    "\n",
    "        return self\n"
   ]
  },
  {
   "cell_type": "code",
   "execution_count": null,
   "metadata": {
    "ExecuteTime": {
     "end_time": "2023-04-02T19:27:10.121129Z",
     "start_time": "2023-04-02T19:27:10.062933Z"
    },
    "pycharm": {
     "name": "#%%\n"
    }
   },
   "outputs": [],
   "source": [
    "params = dict(\n",
    "              C=0.1, # tradeoff L2 regularizer\n",
    "              epochs=100, # iterations\n",
    "              eta=0.001,  # learning rate\n",
    "              random_state=1,\n",
    "              alpha=0.1,# momentum calculation\n",
    "              decrease_const=0.00001, # decreasing eta\n",
    "              minibatches=50, # minibatch size\n",
    "              shuffle=True,\n",
    "             n_hidden2=30, n_hidden3=15, n_hidden4=8)\n",
    "\n",
    "\n",
    "perceptron_5layer_ada = FiveLayerPerceptron_adagrad(epsilon=0.0001,**params)"
   ]
  },
  {
   "cell_type": "code",
   "execution_count": null,
   "metadata": {
    "ExecuteTime": {
     "end_time": "2023-04-02T19:45:19.737806Z",
     "start_time": "2023-04-02T19:44:36.297653Z"
    },
    "pycharm": {
     "name": "#%%\n"
    }
   },
   "outputs": [
    {
     "name": "stdout",
     "output_type": "stream",
     "text": [
      "Accuracy: 0.7283415841584159\n"
     ]
    }
   ],
   "source": [
    "perceptron_5layer_ada.fit(X_train_norm_coded, y_train.to_numpy())\n",
    "yhat_5ada = perceptron_5layer_ada.predict(X_test_norm_coded)\n",
    "print('Accuracy:', accuracy_score(y_test, yhat_5ada))"
   ]
  },
  {
   "cell_type": "code",
   "execution_count": null,
   "metadata": {
    "ExecuteTime": {
     "end_time": "2023-04-02T19:30:51.782192Z",
     "start_time": "2023-04-02T19:30:51.667021Z"
    },
    "pycharm": {
     "name": "#%%\n"
    }
   },
   "outputs": [
    {
     "data": {
      "image/png": "[encoded data removed]",
      "text/plain": [
       "<Figure size 640x480 with 1 Axes>"
      ]
     },
     "metadata": {},
     "output_type": "display_data"
    }
   ],
   "source": [
    "ax = plt.subplot(1,1,1)\n",
    "plt.title('Five Layers with AdaGrad')\n",
    "plt.plot(np.abs(perceptron_5layer_ada.grad_w1_), label='w1')\n",
    "plt.plot(np.abs(perceptron_5layer_ada.grad_w2_), label='w2')\n",
    "plt.plot(np.abs(perceptron_5layer_ada.grad_w3_), label='w3')\n",
    "plt.plot(np.abs(perceptron_5layer_ada.grad_w4_), label='w4')\n",
    "plt.plot(np.abs(perceptron_5layer_ada.grad_w5_), label='W5')\n",
    "plt.legend()\n",
    "plt.ylabel('Average gradient magnitude')\n",
    "plt.xlabel('Epochs')\n",
    "plt.show()"
   ]
  },
  {
   "cell_type": "markdown",
   "metadata": {
    "pycharm": {
     "name": "#%% md\n"
    }
   },
   "source": [
    "The accuracy between the two methods is very minimal with the version with AdaGrad having a very slight increase in accuracy. There is a large difference in the magnitude of the gradient between the two different versions. In the normal version the gradient magnitude are all well seperated and the average magnitude is relatively large. In the version with AdaGrad the average magnitude decrease rapidly and is lower than the non-AdaGrad version. There is also little separation between the layers."
   ]
  },
  {
   "cell_type": "markdown",
   "metadata": {
    "pycharm": {
     "name": "#%% md\n"
    }
   },
   "source": [
    "# 4 Exceptional Work"
   ]
  },
  {
   "cell_type": "code",
   "execution_count": null,
   "metadata": {
    "ExecuteTime": {
     "end_time": "2023-04-02T19:28:03.025682Z",
     "start_time": "2023-04-02T19:28:03.013035Z"
    },
    "pycharm": {
     "name": "#%%\n"
    }
   },
   "outputs": [],
   "source": [
    "class FiveLayerPerceptron_AdaM(FiveLayerPerceptron):\n",
    "    def fit(self, X, y, print_progress=0):\n",
    "        \"\"\" Learn weights from training data.\"\"\"\n",
    "\n",
    "        X_data, y_data = X.copy(), y.copy()\n",
    "        Y_enc = self._encode_labels(y)\n",
    "\n",
    "        # init weights and setup matrices\n",
    "        self.n_features_ = X_data.shape[1]\n",
    "        self.n_output_ = Y_enc.shape[0]\n",
    "        self.W1, self.W2, self.W3, self.W4, self.W5 = self._initialize_weights()\n",
    "\n",
    "\n",
    "        # initialize first and second moment variables for Adam\n",
    "        m1, v1 = np.zeros(self.W1.shape), np.zeros(self.W1.shape)\n",
    "        m2, v2 = np.zeros(self.W2.shape), np.zeros(self.W2.shape)\n",
    "        m3, v3 = np.zeros(self.W3.shape), np.zeros(self.W3.shape)\n",
    "        m4, v4 = np.zeros(self.W4.shape), np.zeros(self.W4.shape)\n",
    "        m5, v5 = np.zeros(self.W5.shape), np.zeros(self.W5.shape)\n",
    "\n",
    "        # hyperparameters for Adam\n",
    "        beta1, beta2, epsilon = 0.9, 0.999, 1e-8\n",
    "\n",
    "         # magnitude of gradient\n",
    "        self.grad_w1_ = []\n",
    "        self.grad_w2_ = []\n",
    "        self.grad_w3_ = []\n",
    "        self.grad_w4_ = []\n",
    "        self.grad_w5_ = []\n",
    "\n",
    "        self.grad_w1_k = []\n",
    "        self.grad_w2_k = []\n",
    "        self.grad_w3_k = []\n",
    "        self.grad_w4_k = []\n",
    "        self.grad_w5_k = []\n",
    "\n",
    "        for k in range(self.epochs):\n",
    "\n",
    "            # adaptive learning rate\n",
    "            eta = self.eta ** (1 + self.decrease_const * k)  # decreasing learning rate\n",
    "            eta = max(eta, self.eta / 1000)\n",
    "            # there are many forms of adaptive learning rates out there!\n",
    "\n",
    "            if print_progress > 0 and (k + 1) % print_progress == 0:\n",
    "                sys.stderr.write('\\rEpoch: %d/%d' % (k + 1, self.epochs))\n",
    "                sys.stderr.flush()\n",
    "\n",
    "            if self.shuffle:\n",
    "                ridx = np.random.permutation(y_data.shape[0])\n",
    "                X_data, Y_enc = X_data[ridx], Y_enc[:, ridx]\n",
    "\n",
    "            mini = np.array_split(range(y_data.shape[0]), self.minibatches)\n",
    "\n",
    "            for idx in mini:\n",
    "                \n",
    "                A1, Z1, A2, Z2, A3, Z3, A4, Z4, A5, Z5, A6 = self._feedforward(X_data[idx], self.W1, self.W2, self.W3, self.W4, self.W5)\n",
    "\n",
    "                # compute gradient via backpropagation\n",
    "                grad1, grad2, grad3, grad4, grad5 = self._get_gradient(A1=A1, A2=A2, A3=A3, A4=A4, A5=A5, A6=A6, Z1=Z1, Z2=Z2, Z3=Z3, Z4=Z4, Z5=Z5, Y_enc=Y_enc[:, idx], W1=self.W1, W2=self.W2, W3=self.W3, W4=self.W4, W5=self.W5)\n",
    "\n",
    "                self.grad_w1_k.append(np.mean(np.abs(grad1 * eta)))\n",
    "                self.grad_w2_k.append(np.mean(np.abs(grad2 * eta)))\n",
    "                self.grad_w3_k.append(np.mean(np.abs(grad3 * eta)))\n",
    "                self.grad_w4_k.append(np.mean(np.abs(grad4 * eta)))\n",
    "                self.grad_w5_k.append(np.mean(np.abs(grad5 * eta)))\n",
    "\n",
    "\n",
    "                # update first and second moment variables for Adam\n",
    "                m1 = beta1 * m1 + (1 - beta1) * grad1\n",
    "                v1 = beta2 * v1 + (1 - beta2) * grad1**2\n",
    "                m2 = beta1 * m2 + (1 - beta1) * grad2\n",
    "                v2 = beta2 * v2 + (1 - beta2) * grad2**2\n",
    "                m3 = beta1 * m3 + (1 - beta1) * grad3\n",
    "                v3 = beta2 * v3 + (1 - beta2) * grad3**2\n",
    "                m4 = beta1 * m4 + (1 - beta1) * grad4\n",
    "                v4 = beta2 * v4 + (1 - beta2) * grad4**2\n",
    "                m5 = beta1 * m5 + (1 - beta1) * grad5\n",
    "                v5 = beta2 * v5 + (1 - beta2) * grad5**2\n",
    "\n",
    "                # compute bias-corrected moments\n",
    "                m1_hat = m1 / (1 - beta1**(k+1))\n",
    "                v1_hat = v1 / (1 - beta2**(k+1))\n",
    "                m2_hat = m2 / (1 - beta1**(k+1))\n",
    "                v2_hat = v2 / (1 - beta2**(k+1))\n",
    "                m3_hat = m3 / (1 - beta1**(k+1))\n",
    "                v3_hat = v3 / (1 - beta2**(k+1))\n",
    "                m4_hat = m4 / (1 - beta1**(k+1))\n",
    "                v4_hat = v4 / (1 - beta2**(k+1))\n",
    "                m5_hat = m5 / (1 - beta1**(k+1))\n",
    "                v5_hat = v5 / (1 - beta2**(k+1))\n",
    "\n",
    "                # update weights with Adam optimizer\n",
    "                self.W1 -= self.eta * m1_hat / (np.sqrt(v1_hat) + epsilon)\n",
    "                self.W2 -= self.eta * m2_hat / (np.sqrt(v2_hat) + epsilon)\n",
    "                self.W3 -= self.eta * m3_hat / (np.sqrt(v3_hat) + epsilon)\n",
    "                self.W4 -= self.eta * m4_hat / (np.sqrt(v4_hat) + epsilon)\n",
    "                self.W5 -= self.eta * m5_hat / (np.sqrt(v5_hat) + epsilon)\n",
    "\n",
    "            self.grad_w1_.append(np.mean(self.grad_w1_k))\n",
    "            self.grad_w2_.append(np.mean(self.grad_w2_k))\n",
    "            self.grad_w3_.append(np.mean(self.grad_w3_k))\n",
    "            self.grad_w4_.append(np.mean(self.grad_w4_k))\n",
    "            self.grad_w5_.append(np.mean(self.grad_w5_k))\n",
    "\n",
    "\n",
    "        return self\n"
   ]
  },
  {
   "cell_type": "code",
   "execution_count": null,
   "metadata": {
    "ExecuteTime": {
     "end_time": "2023-04-02T19:28:04.360051Z",
     "start_time": "2023-04-02T19:28:04.355123Z"
    },
    "pycharm": {
     "name": "#%%\n"
    }
   },
   "outputs": [],
   "source": [
    "params = dict(\n",
    "              C=0.1, # tradeoff L2 regularizer\n",
    "              epochs=100, # iterations\n",
    "              eta=0.001,  # learning rate\n",
    "              random_state=1,\n",
    "              alpha=0.1,# momentum calculation\n",
    "              decrease_const=0.00001, # decreasing eta\n",
    "              minibatches=100, # minibatch size\n",
    "              shuffle=True,\n",
    "             n_hidden2=30, n_hidden3=15, n_hidden4=8)\n",
    "\n",
    "\n",
    "perceptron_5layer_adam = FiveLayerPerceptron_AdaM(n_hidden=50,**params)"
   ]
  },
  {
   "cell_type": "code",
   "execution_count": null,
   "metadata": {
    "ExecuteTime": {
     "end_time": "2023-04-02T19:29:08.911586Z",
     "start_time": "2023-04-02T19:28:05.163662Z"
    },
    "pycharm": {
     "name": "#%%\n"
    }
   },
   "outputs": [
    {
     "name": "stdout",
     "output_type": "stream",
     "text": [
      "Accuracy: 0.7264851485148515\n"
     ]
    }
   ],
   "source": [
    "from sklearn.metrics import accuracy_score\n",
    "perceptron_5layer_adam.fit(X_train_norm_coded, y_train.to_numpy())\n",
    "yhat_5_adam = perceptron_5layer_adam.predict(X_test_norm_coded)\n",
    "print('Accuracy:', accuracy_score(y_test, yhat_5_adam))"
   ]
  },
  {
   "cell_type": "code",
   "execution_count": null,
   "metadata": {
    "ExecuteTime": {
     "end_time": "2023-04-02T19:29:09.049529Z",
     "start_time": "2023-04-02T19:29:08.919556Z"
    },
    "pycharm": {
     "name": "#%%\n"
    }
   },
   "outputs": [
    {
     "data": {
      "image/png": "[encoded data removed]",
      "text/plain": [
       "<Figure size 640x480 with 1 Axes>"
      ]
     },
     "metadata": {},
     "output_type": "display_data"
    }
   ],
   "source": [
    "ax = plt.subplot(1,1,1)\n",
    "plt.title('Five Layers with AdaM ')\n",
    "plt.plot(np.abs(perceptron_5layer_adam.grad_w1_), label='w1')\n",
    "plt.plot(np.abs(perceptron_5layer_adam.grad_w2_), label='w2')\n",
    "plt.plot(np.abs(perceptron_5layer_adam.grad_w3_), label='w3')\n",
    "plt.plot(np.abs(perceptron_5layer_adam.grad_w4_), label='w4')\n",
    "plt.plot(np.abs(perceptron_5layer_adam.grad_w5_), label='W5')\n",
    "plt.legend()\n",
    "plt.ylabel('Average gradient magnitude')\n",
    "plt.xlabel('Iteration')\n",
    "plt.show()"
   ]
  },
  {
   "cell_type": "code",
   "execution_count": null,
   "metadata": {
    "pycharm": {
     "name": "#%%\n"
    }
   },
   "outputs": [
    {
     "name": "stdout",
     "output_type": "stream",
     "text": [
      "Here we can see that without the AdaM or AdaGrad our accuracy is 0.7225660066006601 with GradAda it is 0.7283415841584159 and with AdaM it is 0.7264851485148515.\n"
     ]
    }
   ],
   "source": [
    "print(f'Here we can see that without the AdaM or AdaGrad our accuracy is {accuracy_score(y_test, yhat_5l)} with GradAda it is {accuracy_score(y_test, yhat_5ada)} and with AdaM it is {accuracy_score(y_test, yhat_5_adam)}.')"
   ]
  },
  {
   "cell_type": "markdown",
   "metadata": {
    "pycharm": {
     "name": "#%% md\n"
    }
   },
   "source": [
    "From our comparisons we see that we get slight improvements when we use an adaptive learning technique compared to none. Between AdaGrad and AdaM we see that AdaGrad was the better performing technique. We would recommend implementing an adaptive learning technique as it does produce more accurate results and the behavior of the weights are better behaved. "
   ]
  }
 ],
 "metadata": {
  "kernelspec": {
   "display_name": "Python 3 (ipykernel)",
   "language": "python",
   "name": "python3"
  },
  "language_info": {
   "codemirror_mode": {
    "name": "ipython",
    "version": 3
   },
   "file_extension": ".py",
   "mimetype": "text/x-python",
   "name": "python",
   "nbconvert_exporter": "python",
   "pygments_lexer": "ipython3",
   "version": "3.11.7"
  }
 },
 "nbformat": 4,
 "nbformat_minor": 1
}
